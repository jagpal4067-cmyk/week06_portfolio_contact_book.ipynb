{
  "nbformat": 4,
  "nbformat_minor": 0,
  "metadata": {
    "colab": {
      "provenance": [],
      "authorship_tag": "ABX9TyMbe16Jx+H7BSjOERo/eC1m",
      "include_colab_link": true
    },
    "kernelspec": {
      "name": "python3",
      "display_name": "Python 3"
    },
    "language_info": {
      "name": "python"
    }
  },
  "cells": [
    {
      "cell_type": "markdown",
      "metadata": {
        "id": "view-in-github",
        "colab_type": "text"
      },
      "source": [
        "<a href=\"https://colab.research.google.com/github/jagpal4067-cmyk/week06_portfolio_contact_book.ipynb/blob/main/week_10_process_documentation.ipynb\" target=\"_parent\"><img src=\"https://colab.research.google.com/assets/colab-badge.svg\" alt=\"Open In Colab\"/></a>"
      ]
    },
    {
      "cell_type": "markdown",
      "source": [
        "**Problem 1: Tip Calculator**\n",
        "\n",
        "The Scenario\n",
        "You work at a Perth restaurant. The manager wants a simple tool where staff can enter: - The bill amount (e.g., $45.80) - The tip percentage (e.g., 15%)\n",
        "And get back: - The tip amount - The total amount to charge\n",
        "\n",
        "\n",
        "**Step 1: Understand the Problem**\n",
        "\n",
        "this tool will helps restaurant staff to figure out how much money a customer have pay including a tip.\n",
        "The customer enters the total bill amount and the tip percentage.\n",
        "The tool then calculates the tip value and adds it to the bill to show the total amount to charge.\n",
        "\n",
        "**Step 2: Identify Inputs and Outputs**\n",
        "\n",
        "**INPUTS:**\n",
        "\n",
        "Bill amount-$45.80\n",
        "\n",
        "Tip percentage-$15\n",
        "\n",
        "**OUTPUTS:**\n",
        "\n",
        "Tip amount-$6.87\n",
        "\n",
        "Total amount including tip-$52.67\n",
        "\n",
        "**Step 3: Work It by Hand**\n",
        "\n",
        "Bill=$45.80               Tip=15%\n",
        "\n",
        "Multiplication of tip percentage:\n",
        "\n",
        "1.  45.80*0.15=6.87 this is tip\n",
        "\n",
        "2.  adding tip 45.80+6.87=52.67 total amount\n",
        "\n",
        "3.  what i will tell staff\n",
        "     tip is $6.87 and total amount is $52.67\n",
        "    \n",
        "\n",
        "\n",
        "\n",
        "**Problem 2: Late Fee Calculator**\n",
        "\n",
        "\n",
        "The Scenario\n",
        "You work for a library in Perth. Books are due back in 14 days. For every day late, there’s a                      $0.50 fine     (maximum $10.00).\n",
        "The librarian wants a program where they enter: - How many days the book is overdue And get back: - The fine amount (or “Maximum fine reached” if it’s over $10)\n",
        "\n",
        "\n",
        "\n",
        "**Step 1: Understand the Problem**\n",
        "\n",
        "My tool will goona help a librarian to identify the fine of someone who returning a book late. The librarian can see how many days late the book is overdue.The program multiplies the number by late charges that is $0.50  but it can stop at $10 if the fine goes higher\n",
        "\n",
        "\n",
        "\n",
        "**Step 2: Identify Inputs and Outputs**\n",
        "\n",
        "\n",
        "**INPUTS:**\n",
        "\n",
        "\n",
        "Number of days overdue\n",
        "\n",
        "\n",
        "**OUTPUTS:**\n",
        "\n",
        "Fine amount\n",
        "maximum fine if its over $10\n",
        "\n",
        "\n",
        "**Step 3: Work It by Hand**\n",
        "\n",
        "**Case A: **bold text** Book is 5 days late\n",
        "1. fine= 5*0.50=$2.50\n",
        "\n",
        "2. fine is under                answer:$2.50\n",
        "\n",
        "Case B: Book is 25 days late\n",
        "\n",
        "1. Fine = 25*0.50 = $12.50\n",
        "\n",
        "2. fine is above $10\n",
        "answer:$10.00\n",
        "\n",
        "**Case C:** Book is 0 days late\n",
        "\n",
        "1.Fine = 0*/0.50 = $0.00\n",
        "Answer: $0.00"
      ],
      "metadata": {
        "id": "lYuLo6Mdc-yV"
      }
    }
  ]
}
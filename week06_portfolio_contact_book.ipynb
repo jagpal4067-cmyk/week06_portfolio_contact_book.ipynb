{
  "cells": [
    {
      "cell_type": "markdown",
      "metadata": {
        "id": "view-in-github",
        "colab_type": "text"
      },
      "source": [
        "<a href=\"https://colab.research.google.com/github/jagpal4067-cmyk/week06_portfolio_contact_book.ipynb/blob/main/week06_portfolio_contact_book.ipynb\" target=\"_parent\"><img src=\"https://colab.research.google.com/assets/colab-badge.svg\" alt=\"Open In Colab\"/></a>"
      ]
    },
    {
      "cell_type": "raw",
      "metadata": {
        "id": "Mipf9_EWhzU_"
      },
      "source": [
        "---\n",
        "title: 'Week 6 – Worksheet: Mini Contact Book'\n",
        "subtitle: 'Assessment 2 – Portfolio • Part 1 (In-class, 20–30 mins)'\n",
        "format:\n",
        "  html:\n",
        "    toc: true\n",
        "    toc-depth: 2\n",
        "    number-sections: false\n",
        "    code-copy: true\n",
        "    theme: cosmo\n",
        "  pdf:\n",
        "    toc: false\n",
        "  docx:\n",
        "    toc: false\n",
        "execute:\n",
        "  echo: true\n",
        "  warning: false\n",
        "  error: true\n",
        "---"
      ]
    },
    {
      "cell_type": "markdown",
      "metadata": {
        "id": "E1-jwAXFhzVA"
      },
      "source": [
        "## Learning Goals\n",
        "\n",
        "- Use **dictionaries** to store and retrieve data by **key**.  \n",
        "- Practise **create / update / iterate** operations.  \n",
        "- (Stretch) Model richer data with a **nested dictionary**.  \n",
        "- Record how you **used AI** to assist your work.\n",
        "\n",
        "::: callout-tip\n",
        "### What you’ll build\n",
        "A tiny **Contact Book** in Google Colab: add a few contacts, update one, and print them neatly.  \n",
        "If you finish early, extend it with emails.\n",
        ":::\n",
        "\n",
        "## Setup (2 minutes)\n",
        "\n",
        "1. Open **Google Colab** and create a new notebook.  \n",
        "2. Rename it: `week06_portfolio_contact_book.ipynb`.  \n",
        "3. You will push this file to your **Assessment 2 GitHub repo** at the end."
      ]
    },
    {
      "cell_type": "markdown",
      "metadata": {
        "id": "xXNJqDSthzVB"
      },
      "source": [
        "---\n",
        "\n",
        "## Part A — Basics (Must Do)\n",
        "\n",
        "Follow each TODO. Leave your work visible in the cells (don’t delete earlier code).\n",
        "\n",
        "### A1. Create a dictionary with 3 contacts"
      ]
    },
    {
      "cell_type": "code",
      "metadata": {
        "id": "Am-GN5eMhzVB"
      },
      "source": [
        "# TODO: Create a dictionary called `contacts` with 3 entries\n",
        "# Each key should be a person's name, each value their phone number (string)\n",
        "\n",
        "contacts = {\n",
        "    # e.g. \"Alice\": \"0400 123 456\",\n",
        "}\n",
        "````\n",
        "\n",
        "### A2. Add a new entry (your name)\n",
        "\n",
        "```{python}\n",
        "# TODO: Add yourself (or another name) to the contacts dictionary"
      ],
      "execution_count": null,
      "outputs": []
    },
    {
      "cell_type": "code",
      "source": [
        "# A1 - Create dictionary with 3 contacts\n",
        "contacts = {\n",
        "    \"Alice\": \"0400 123 456\",\n",
        "    \"Bob\": \"0411 000 999\",\n",
        "    \"Charlie\": \"0422 555 777\"\n",
        "}\n",
        "contacts  # show the dictionary output\n",
        "\n",
        "# A2 - Add yourself\n",
        "contacts[\"Jagpal\"] = \"0433 888 222\"\n",
        "contacts\n",
        "\n"
      ],
      "metadata": {
        "colab": {
          "base_uri": "https://localhost:8080/"
        },
        "id": "zuL4HMaBiaZM",
        "outputId": "932dbc1f-c653-4509-f5e5-d52b8962a480"
      },
      "execution_count": 2,
      "outputs": [
        {
          "output_type": "execute_result",
          "data": {
            "text/plain": [
              "{'Alice': '0400 123 456',\n",
              " 'Bob': '0411 000 999',\n",
              " 'Charlie': '0422 555 777',\n",
              " 'Jagpal': '0433 888 222'}"
            ]
          },
          "metadata": {},
          "execution_count": 2
        }
      ]
    },
    {
      "cell_type": "markdown",
      "metadata": {
        "id": "poNgARY5hzVC"
      },
      "source": [
        "### A3. Update an existing contact’s number"
      ]
    },
    {
      "cell_type": "code",
      "metadata": {
        "id": "xigRLtyQhzVC"
      },
      "source": [
        "# TODO: Change Bob's number (or any existing contact) to a new value"
      ],
      "execution_count": null,
      "outputs": []
    },
    {
      "cell_type": "code",
      "source": [
        "# A3 - Update Bob's number\n",
        "contacts[\"Bob\"] = \"0409 111 333\"\n",
        "contacts\n"
      ],
      "metadata": {
        "colab": {
          "base_uri": "https://localhost:8080/"
        },
        "id": "IwsDjGUOjuTH",
        "outputId": "cd83a16f-b6cc-4655-947f-9b82e58eebcf"
      },
      "execution_count": 3,
      "outputs": [
        {
          "output_type": "execute_result",
          "data": {
            "text/plain": [
              "{'Alice': '0400 123 456',\n",
              " 'Bob': '0409 111 333',\n",
              " 'Charlie': '0422 555 777',\n",
              " 'Jagpal': '0433 888 222'}"
            ]
          },
          "metadata": {},
          "execution_count": 3
        }
      ]
    },
    {
      "cell_type": "markdown",
      "metadata": {
        "id": "OzjkC8SLhzVC"
      },
      "source": [
        "### A4. Print all contacts in a neat format"
      ]
    },
    {
      "cell_type": "code",
      "metadata": {
        "id": "QscKtdfxhzVC"
      },
      "source": [
        "# TODO: Loop through the dictionary and print each contact\n",
        "# Expected format (example):\n",
        "# Alice: 0400 123 456\n",
        "# Bob: 0411 000 999"
      ],
      "execution_count": null,
      "outputs": []
    },
    {
      "cell_type": "code",
      "source": [
        "# A4 - Print neatly\n",
        "for name, phone in contacts.items():\n",
        "    print(f\"{name}: {phone}\")\n"
      ],
      "metadata": {
        "colab": {
          "base_uri": "https://localhost:8080/"
        },
        "id": "y1Mz9ugumQn1",
        "outputId": "c117ef2e-ada7-4fdb-f8c3-4dfc61bff111"
      },
      "execution_count": 4,
      "outputs": [
        {
          "output_type": "stream",
          "name": "stdout",
          "text": [
            "Alice: 0400 123 456\n",
            "Bob: 0409 111 333\n",
            "Charlie: 0422 555 777\n",
            "Jagpal: 0433 888 222\n"
          ]
        }
      ]
    },
    {
      "cell_type": "raw",
      "metadata": {
        "id": "96Of_lGRhzVC"
      },
      "source": [
        "\\::: callout-check\n",
        "**Checkpoint:** You should now have:\n",
        "\n",
        "1. a dictionary with **3+** contacts,\n",
        "2. one **new** entry added,\n",
        "3. one **update** made, and\n",
        "4. a **neat printout**.\n",
        "   \\:::\n",
        "\n",
        "---"
      ]
    },
    {
      "cell_type": "markdown",
      "metadata": {
        "id": "YkvBss3zhzVC"
      },
      "source": [
        "## Part B — Nested (Stretch)\n",
        "\n",
        "Give each contact both **phone** and **email** using a nested dictionary.\n",
        "\n",
        "### B1. Convert contacts to a nested structure"
      ]
    },
    {
      "cell_type": "code",
      "metadata": {
        "id": "G_IgJWsChzVC"
      },
      "source": [
        "# TODO: Redesign `contacts` so each entry stores both a phone and an email\n",
        "contacts = {\n",
        "    # \"Alice\": {\"phone\": \"...\", \"email\": \"...\"},\n",
        "}"
      ],
      "execution_count": null,
      "outputs": []
    },
    {
      "cell_type": "code",
      "source": [
        "# B1 - Nested dictionary: phone + email\n",
        "contacts = {\n",
        "    \"Alice\":   {\"phone\": \"0400 123 456\", \"email\": \"alice@example.com\"},\n",
        "    \"Bob\":     {\"phone\": \"0409 111 333\", \"email\": \"bob@example.com\"},\n",
        "    \"Charlie\": {\"phone\": \"0422 555 777\", \"email\": \"charlie@example.com\"},\n",
        "    \"Jagpal\":  {\"phone\": \"0433 888 222\", \"email\": \"jagpal@example.com\"},\n",
        "}\n",
        "contacts\n"
      ],
      "metadata": {
        "colab": {
          "base_uri": "https://localhost:8080/"
        },
        "id": "aHb005L4mVh-",
        "outputId": "8bcc2bd5-abf9-48f3-8663-10e9e0d17d62"
      },
      "execution_count": 5,
      "outputs": [
        {
          "output_type": "execute_result",
          "data": {
            "text/plain": [
              "{'Alice': {'phone': '0400 123 456', 'email': 'alice@example.com'},\n",
              " 'Bob': {'phone': '0409 111 333', 'email': 'bob@example.com'},\n",
              " 'Charlie': {'phone': '0422 555 777', 'email': 'charlie@example.com'},\n",
              " 'Jagpal': {'phone': '0433 888 222', 'email': 'jagpal@example.com'}}"
            ]
          },
          "metadata": {},
          "execution_count": 5
        }
      ]
    },
    {
      "cell_type": "markdown",
      "metadata": {
        "id": "DAAWiCw-hzVC"
      },
      "source": [
        "### B2. Print contacts neatly (name, phone, email)"
      ]
    },
    {
      "cell_type": "code",
      "metadata": {
        "id": "cBM_cqTlhzVC"
      },
      "source": [
        "# TODO: Loop through contacts and print both phone and email"
      ],
      "execution_count": null,
      "outputs": []
    },
    {
      "cell_type": "code",
      "source": [
        "# B2 - Print name, phone, email\n",
        "for name, info in contacts.items():\n",
        "    phone = info.get(\"phone\", \"N/A\")\n",
        "    email = info.get(\"email\", \"N/A\")\n",
        "    print(f\"{name}: {phone} | {email}\")\n"
      ],
      "metadata": {
        "colab": {
          "base_uri": "https://localhost:8080/"
        },
        "id": "JQAxthDWmgxm",
        "outputId": "c014d7a6-4f82-4c9f-eda1-44a81cef17ce"
      },
      "execution_count": 6,
      "outputs": [
        {
          "output_type": "stream",
          "name": "stdout",
          "text": [
            "Alice: 0400 123 456 | alice@example.com\n",
            "Bob: 0409 111 333 | bob@example.com\n",
            "Charlie: 0422 555 777 | charlie@example.com\n",
            "Jagpal: 0433 888 222 | jagpal@example.com\n"
          ]
        }
      ]
    },
    {
      "cell_type": "markdown",
      "metadata": {
        "id": "7wVCj7rdhzVD"
      },
      "source": [
        "\\::: callout-note\n",
        "**Optional:** Add a simple **lookup** by name using `input()` to fetch phone/email.\n",
        "\\:::"
      ]
    },
    {
      "cell_type": "code",
      "metadata": {
        "id": "X6bCBTHPhzVD"
      },
      "source": [
        "# TODO (optional): Prompt for a name and print their details if found"
      ],
      "execution_count": null,
      "outputs": []
    },
    {
      "cell_type": "code",
      "source": [
        "# Optional lookup by name\n",
        "search_name = input(\"Enter name to look up: \").strip()\n",
        "person = contacts.get(search_name)\n",
        "if person:\n",
        "    print(f\"{search_name}: {person.get('phone','N/A')} | {person.get('email','N/A')}\")\n",
        "else:\n",
        "    print(\"Contact not found.\")\n"
      ],
      "metadata": {
        "colab": {
          "base_uri": "https://localhost:8080/"
        },
        "id": "FVj_XLM_mxNQ",
        "outputId": "609349d3-0632-4f40-a92f-cabb1b40459a"
      },
      "execution_count": 8,
      "outputs": [
        {
          "output_type": "stream",
          "name": "stdout",
          "text": [
            "Enter name to look up: Alice\n",
            "Alice: 0400 123 456 | alice@example.com\n"
          ]
        }
      ]
    },
    {
      "cell_type": "markdown",
      "metadata": {
        "id": "-nHYdsQJhzVD"
      },
      "source": [
        "---\n",
        "\n",
        "## Part C — Critique AI Output (Optional, 3–5 mins)\n",
        "\n",
        "Read (don’t run) the following **over-complicated** structure:"
      ]
    },
    {
      "cell_type": "code",
      "metadata": {
        "id": "vFYkxvBnhzVD"
      },
      "source": [
        "book = {\n",
        "    \"people\": [\n",
        "        {\"n\": \"Alice\", \"v\": [\"phone\", \"0400 123 456\", \"email\", \"alice@example.com\"]},\n",
        "        {\"n\": \"Bob\",   \"v\": [\"phone\", \"0411 000 999\", \"email\", \"bob@example.com\"]},\n",
        "    ]\n",
        "}"
      ],
      "execution_count": null,
      "outputs": []
    },
    {
      "cell_type": "code",
      "source": [
        "critique_notes = \"\"\"\n",
        "1) Non-descriptive keys (\"n\",\"v\") make code hard to read.\n",
        "2) Values stored as flat lists mix labels and data, making lookups awkward and fragile.\n",
        "\n",
        "Redesign idea:\n",
        "Use a dictionary of dictionaries:\n",
        "{\n",
        "  \"Alice\": {\"phone\":\"0400 123 456\", \"email\":\"alice@example.com\"},\n",
        "  \"Bob\": {...}\n",
        "}\n",
        "\"\"\"\n",
        "print(critique_notes)\n"
      ],
      "metadata": {
        "id": "04xblLw6m_Yz"
      },
      "execution_count": null,
      "outputs": []
    },
    {
      "cell_type": "markdown",
      "metadata": {
        "id": "zjuBzICrhzVD"
      },
      "source": [
        "**Your task (short text answer below or as comments):**\n",
        "\n",
        "1. Identify **two reasons** this structure is hard to read/use.\n",
        "2. Sketch a **simpler redesign** (describe briefly or outline keys you would use).\n",
        "\n",
        "\\::: callout-tip\n",
        "If you’d like AI support without giving you the answer, try a **process prompt** like:\n",
        "\n",
        "> “Help me evaluate whether the above structure is easy to use for lookups in Python. Ask me 3 guiding questions first, then suggest *principles* (not code) for a clearer dictionary-of-dictionaries design.”\n",
        "> \\:::"
      ]
    },
    {
      "cell_type": "code",
      "metadata": {
        "id": "dypwPbOGhzVD"
      },
      "source": [
        "# ← Optional: write brief notes here as a multiline string\n",
        "critique_notes = \"\"\"\n",
        "1) ...\n",
        "2) ...\n",
        "Redesign idea: ...\n",
        "\"\"\"\n",
        "critique_notes"
      ],
      "execution_count": null,
      "outputs": []
    },
    {
      "cell_type": "raw",
      "metadata": {
        "id": "PLs9zXgkhzVD"
      },
      "source": [
        "---"
      ]
    },
    {
      "cell_type": "markdown",
      "metadata": {
        "id": "Q34vru6nhzVD"
      },
      "source": [
        "## Submission (End of Class)\n",
        "\n",
        "1. **Show** your notebook to your tutor for a quick check.\n",
        "2. **Save** the notebook into your **Assessment 2 GitHub repo**.\n",
        "3. **Commit & push** (suggested message: `Week 6 – Mini Contact Book`).\n",
        "\n",
        "> Your full portfolio will be submitted as a **zip of the repo in Week 13**."
      ]
    },
    {
      "cell_type": "raw",
      "metadata": {
        "id": "Dd-3MYExhzVD"
      },
      "source": [
        "---\n",
        "\n",
        "## Marking (This Week)\n",
        "\n",
        "* **✅ Complete** — Part A done (dictionary created, updated, printed). Part B optional.\n",
        "* **⚠️ Attempted** — Some progress, but not all required steps.\n",
        "* **❌ Not Submitted** — Nothing shown in class and/or nothing pushed to GitHub.\n",
        "\n",
        "---"
      ]
    },
    {
      "cell_type": "markdown",
      "metadata": {
        "id": "xFMxDiG2hzVD"
      },
      "source": [
        "## AI Usage Note (2–3 lines)\n",
        "\n",
        "Add to your repo `README.md` **or** a final markdown cell:\n",
        "\n",
        "* What prompt(s) did you try?\n",
        "* What did you change/fix from AI’s suggestion?\n",
        "* One concept you want to practise (e.g., `.items()`, `.get()`)."
      ]
    },
    {
      "cell_type": "raw",
      "metadata": {
        "id": "wIEwrmHihzVD"
      },
      "source": [
        "---\n",
        "\n",
        "## Troubleshooting\n",
        "\n",
        "* **KeyError** → The name isn’t in the dictionary (use `in` to check).\n",
        "* **Typos** → Keys are case-sensitive (`\"Bob\"` ≠ `\"bob\"`).\n",
        "* **Overwriting** → Reassigning `contacts = {...}` replaces the old dict — that’s expected in B1.\n",
        "\n",
        "---"
      ]
    },
    {
      "cell_type": "markdown",
      "metadata": {
        "id": "RMp_ysOQhzVD"
      },
      "source": [
        "## Extension Ideas (For fast finishers)\n",
        "\n",
        "* Add a **delete contact** option.\n",
        "* Prevent duplicates (check existence before adding).\n",
        "* Store multiple phone numbers per person (list inside the nested dict).\n"
      ]
    }
  ],
  "metadata": {
    "kernelspec": {
      "display_name": "Python 3",
      "language": "python",
      "name": "python3"
    },
    "colab": {
      "provenance": [],
      "include_colab_link": true
    }
  },
  "nbformat": 4,
  "nbformat_minor": 0
}
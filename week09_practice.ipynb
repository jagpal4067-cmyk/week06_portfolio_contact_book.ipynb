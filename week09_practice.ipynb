{
  "cells": [
    {
      "cell_type": "markdown",
      "metadata": {
        "id": "view-in-github",
        "colab_type": "text"
      },
      "source": [
        "<a href=\"https://colab.research.google.com/github/jagpal4067-cmyk/week06_portfolio_contact_book.ipynb/blob/main/week09_practice.ipynb\" target=\"_parent\"><img src=\"https://colab.research.google.com/assets/colab-badge.svg\" alt=\"Open In Colab\"/></a>"
      ]
    },
    {
      "cell_type": "raw",
      "metadata": {
        "id": "_YnN953ge7p7"
      },
      "source": [
        "---\n",
        "title: \"Week 8: Additional Practice - Building AI Collaboration Skills\"\n",
        "subtitle: \"ISYS2001 Introduction to Business Programming\"\n",
        "author: \"Your Name\"\n",
        "date: \"September 2024\"\n",
        "format:\n",
        "  html:\n",
        "    toc: true\n",
        "    toc-expand: 2\n",
        "    code-fold: false\n",
        "    embed-resources: true\n",
        "---"
      ]
    },
    {
      "cell_type": "markdown",
      "metadata": {
        "id": "8dFIBw4Ke7p9"
      },
      "source": [
        "# 🎯 Building Confidence with AI-Assisted Data Analysis\n",
        "\n",
        "This notebook provides additional practice exercises to strengthen your AI collaboration skills and build confidence with business data processing. Use these exercises to deepen your understanding before or after the main workshop.\n",
        "\n",
        "**Remember**: The goal isn't to memorize pandas syntax - it's to become effective at directing AI to solve business problems."
      ]
    },
    {
      "cell_type": "markdown",
      "metadata": {
        "id": "5gedsuWxe7p-"
      },
      "source": [
        "---\n",
        "\n",
        "# Exercise Set 1: Sales Data Analysis 📊\n",
        "\n",
        "## Business Context\n",
        "\n",
        "You're working as a Business Analyst for an office supply company. Your manager has given you sales data and asked for insights to help plan next quarter's inventory and sales strategy.\n",
        "\n",
        "## Data Overview\n",
        "\n",
        "We'll use the `sales_data.csv` file with columns:\n",
        "- **Date**: Sale date\n",
        "- **Product**: Product name\n",
        "- **Quantity**: Units sold\n",
        "- **Unit_Price**: Price per unit (with $ signs)\n",
        "- **Total_Sale**: Total transaction value\n",
        "- **Sales_Rep**: Employee who made the sale\n",
        "- **Region**: Geographic region"
      ]
    },
    {
      "cell_type": "code",
      "metadata": {
        "id": "mX3ehR2fe7p-"
      },
      "source": [
        "import pandas as pd\n",
        "\n",
        "# Load the sales data\n",
        "sales_df = pd.read_csv('../data/sales_data.csv')\n",
        "\n",
        "# Display first few rows\n",
        "print(\"📋 Sales Data Sample:\")\n",
        "print(\"=\" * 40)\n",
        "print(sales_df.head())\n",
        "print(f\"\\nDataset: {len(sales_df)} transactions across {sales_df['Region'].nunique()} regions\")"
      ],
      "execution_count": null,
      "outputs": []
    },
    {
      "cell_type": "markdown",
      "metadata": {
        "id": "ZYDPPuFKe7p_"
      },
      "source": [
        "## Practice Exercise 1.1: Sales Performance by Region\n",
        "\n",
        "::: {.callout-tip}\n",
        "## Your AI Collaboration Challenge\n",
        "\n",
        "**Business Question**: \"Which region is performing best, and what's the average sale size by region?\"\n",
        "\n",
        "**Your Task**: Practice prompting AI with this business context. Try creating a prompt that asks for:\n",
        "1. Total sales by region\n",
        "2. Average sale amount by region  \n",
        "3. Number of transactions by region\n",
        "4. Results formatted for a manager presentation\n",
        "\n",
        "**Write your prompt below, then see what AI generates:**\n",
        ":::\n",
        "\n",
        "**Your Prompt:**\n",
        "hi i am beginner in a coding i got a work to do on sales_data in this i have to use thisDate: Sale date\n",
        "Product , Quantity, Unit_Price, Total_Sale, Sales_Rep, Region and this are the task i have to do about total sales, average sale amount, number of transactions by region and result formatted for a presentation so give me code for sales_data. but i want you to use only panda library in a simple way\n",
        "\n",
        "**AI Response:**"
      ]
    },
    {
      "cell_type": "code",
      "metadata": {
        "colab": {
          "base_uri": "https://localhost:8080/"
        },
        "id": "TLQ3g3wte7p_",
        "outputId": "8704a908-28b2-4eab-f181-b82279fb2067"
      },
      "source": [
        "# Paste AI-generated code here and run it\n",
        "# Remember to critique and improve if needed!\n",
        "import pandas as pd\n",
        "\n",
        "# Load the sales data\n",
        "# Assuming the data is in the correct path as used in the previous cell\n",
        "sales = pd.read_csv(\"/content/sales_data.csv\")\n",
        "\n",
        "# Clean the 'Total_Sale' column by removing '$' and converting to numeric\n",
        "sales['Total_Sale'] = sales['Total_Sale'].replace({r'\\$': ''}, regex=True).astype(float)\n",
        "\n",
        "# Calculate total and average sales\n",
        "total_sales = sales[\"Total_Sale\"].sum()\n",
        "average_sale = sales[\"Total_Sale\"].mean()\n",
        "\n",
        "# Transactions and total sales by region\n",
        "transactions_by_region = sales[\"Region\"].value_counts()\n",
        "total_sales_by_region = sales.groupby(\"Region\")[\"Total_Sale\"].sum()\n",
        "\n",
        "# Create a summary table\n",
        "summary = pd.DataFrame({\n",
        "    \"Total Sales\": total_sales_by_region,\n",
        "    \"Transactions\": transactions_by_region\n",
        "})\n",
        "summary[\"Average Sale per Transaction\"] = summary[\"Total Sales\"] / summary[\"Transactions\"]\n",
        "summary = summary.sort_values(\"Total Sales\", ascending=False)\n",
        "\n",
        "# Display all results\n",
        "print(\"✅ Total Sales: ${:,.2f}\".format(total_sales))\n",
        "print(\"✅ Average Sale Amount: ${:,.2f}\".format(average_sale))\n",
        "print(\"\\n📊 Summary Table by Region:\")\n",
        "print(summary)\n",
        "\n",
        "# Save summary to CSV\n",
        "# summary.to_csv(\"sales_summary.csv\", index=True)\n",
        "# print(\"\\n💾 'sales_summary.csv' saved successfully!\")"
      ],
      "execution_count": null,
      "outputs": [
        {
          "output_type": "stream",
          "name": "stdout",
          "text": [
            "✅ Total Sales: $93,941.80\n",
            "✅ Average Sale Amount: $4,697.09\n",
            "\n",
            "📊 Summary Table by Region:\n",
            "        Total Sales  Transactions  Average Sale per Transaction\n",
            "Region                                                         \n",
            "NSW        50902.75             8                    6362.84375\n",
            "VIC        21085.50             4                    5271.37500\n",
            "QLD        11904.30             4                    2976.07500\n",
            "WA         10049.25             4                    2512.31250\n"
          ]
        }
      ]
    },
    {
      "cell_type": "markdown",
      "source": [
        "**MY CRITIQUE**\n",
        "```\n",
        "import pandas as pd\n",
        "\n",
        "# Load the sales data\n",
        "# Assuming the data is in the correct path as used in the previous cell\n",
        "# sales = pd.read_csv(\"sales_data.csv\")\n",
        "\n",
        "# Clean the 'Total_Sale' column by removing '$' and converting to numeric\n",
        "sales['Total_Sale'] = sales['Total_Sale'].replace({'\\$': ''}, regex=True).astype(float)\n",
        "\n",
        "# Calculate total and average sales\n",
        "total_sales = sales[\"Total_Sale\"].sum()\n",
        "average_sale = sales[\"Total_Sale\"].mean()\n",
        "\n",
        "# Transactions and total sales by region\n",
        "transactions_by_region = sales[\"Region\"].value_counts()\n",
        "total_sales_by_region = sales.groupby(\"Region\")[\"Total_Sale\"].sum()\n",
        "\n",
        "# Create a summary table\n",
        "summary = pd.DataFrame({\n",
        "    \"Total Sales\": total_sales_by_region,\n",
        "    \"Transactions\": transactions_by_region\n",
        "})                                                                                                                                                                                 summary[\"Average Sale per Transaction\"] = summary[\"Total Sales\"] / summary[\"Transactions\"]\n",
        "summary = summary.sort_values(\"Total Sales\", ascending=False)\n",
        "\n",
        "# Display all results\n",
        "print(\"✅ Total Sales: ${:,.2f}\".format(total_sales))\n",
        "print(\"✅ Average Sale Amount: ${:,.2f}\".format(average_sale))\n",
        "print(\"\\n📊 Summary Table by Region:\")\n",
        "print(summary)\n",
        "\n",
        "# Save summary to CSV\n",
        "# summary.to_csv(\"sales_summary.csv\", index=True)\n",
        "# print(\"\\n💾 'sales_summary.csv' saved successfully!\")  \n",
        "```  \n",
        "hey this is a code in this explain me this in simple summary  because some code i don't know about that like in total sale replace regex\n",
        "\n",
        "**AI Response**\n",
        "\n",
        "This Python code uses only pandas to analyze your sales data.\n",
        "\n",
        "Loads the data from a CSV file into a pandas table.\n",
        "\n",
        "Cleans the “Total_Sale” column by removing the $ sign and turning the values into numbers.\n",
        "\n",
        "Calculates overall totals:\n",
        "\n",
        "The total amount of all sales\n",
        "\n",
        "The average sale amount\n",
        "\n",
        "Groups the data by region to find:\n",
        "\n",
        "How many sales (transactions) happened in each region\n",
        "\n",
        "How much total money was made in each region\n",
        "\n",
        "Creates a summary table showing each region’s total sales, number of transactions, and average sale per transaction.\n",
        "\n",
        "Sorts the summary so the regions with the highest total sales appear first.\n",
        "\n",
        "Prints all the results in a neat, easy-to-read format.\n",
        "\n",
        "(Optional) — You can save the summary table to a new CSV file for your presentation."
      ],
      "metadata": {
        "id": "BxNvFaV_vL_F"
      }
    },
    {
      "cell_type": "markdown",
      "metadata": {
        "id": "lna1n7POe7qA"
      },
      "source": [
        "**Your Critique:**\n",
        "- What did AI do well?\n",
        "- What would you ask AI to improve?\n",
        "- Does the output help answer the business question?\n",
        "\n",
        "---\n",
        "\n",
        "## Practice Exercise 1.2: Top Performing Products\n",
        "\n",
        "::: {.callout-tip}\n",
        "## Business Scenario\n",
        "\n",
        "Your inventory manager needs to know which products to stock more of next quarter.\n",
        "\n",
        "**Challenge**: Ask AI to identify the top 5 products by:\n",
        "- Total revenue generated\n",
        "- Total units sold\n",
        "- Which products have the highest profit margins (hint: compare unit price trends)\n",
        "\n",
        "**Practice better prompting**: Be specific about formatting and business context.\n",
        ":::\n",
        "\n",
        "**Your Prompt:**\n",
        "hi i am beginner in a coding i have to make business scenario i got a work to do on sales_data in this i have to use this Date: Sale date\n",
        "Product , Quantity, Unit_Price, Total_Sale, Sales_Rep, Region and this are the task i have to do give me top five products by Total revenue generated , Total units sold, Which products have the highest profit margins so give me code for sales_data. but i want you to use only panda library in a simple way\n",
        "```\n",
        "\n",
        "**AI Response:**"
      ]
    },
    {
      "cell_type": "code",
      "metadata": {
        "colab": {
          "base_uri": "https://localhost:8080/"
        },
        "id": "mLrDbYrse7qA",
        "outputId": "46f1924f-b9f3-4cd4-c429-847061ba0080"
      },
      "source": [
        "# AI-generimport pandas as pd\n",
        "\n",
        "# Load your sales data\n",
        "# Assuming the data is in the correct path as used in the previous cell\n",
        "import pandas as pd\n",
        "\n",
        "# Load your sales data\n",
        "try:\n",
        "    sales = pd.read_csv(\"content/sales_data.csv\")\n",
        "except FileNotFoundError:\n",
        "    print(\"Error: sales_data.csv not found at content/sales_data.csv\")\n",
        "    try:\n",
        "        sales = pd.read_csv(\"sales_data.csv\")\n",
        "        print(\"Loaded sales_data.csv from the current directory.\")\n",
        "    except FileNotFoundError:\n",
        "        print(\"Error: sales_data.csv not found in the current directory either.\")\n",
        "        raise\n",
        "\n",
        "# Clean the Total_Sale column (remove '$' if it exists)\n",
        "sales['Total_Sale'] = sales['Total_Sale'].replace({r'\\$': ''}, regex=True).astype(float)\n",
        "\n",
        "# Clean the Quantity column and convert to float\n",
        "sales['Quantity'] = sales['Quantity'].astype(str).replace({r'\\$': ''}, regex=True).astype(float)\n",
        "\n",
        "# Clean the Unit_Price column and convert to numeric\n",
        "sales['Unit_Price'] = pd.to_numeric(sales['Unit_Price'].str.replace('$', '', regex=False), errors='coerce')\n",
        "\n",
        "# --- 1️⃣ Top 5 Products by Total Revenue ---\n",
        "revenue_by_product = sales.groupby('Product')['Total_Sale'].sum().sort_values(ascending=False)\n",
        "top5_revenue_products = revenue_by_product.head(5)\n",
        "print(\"🏆 Top 5 Products by Total Revenue:\")\n",
        "print(top5_revenue_products)\n",
        "\n",
        "# --- 2️⃣ Top 5 Products by Total Units Sold ---\n",
        "units_sold_by_product = sales.groupby('Product')['Quantity'].sum().sort_values(ascending=False)\n",
        "top5_units_products = units_sold_by_product.head(5)\n",
        "print(\"\\n📦 Top 5 Products by Total Units Sold:\")\n",
        "print(top5_units_products)\n",
        "\n",
        "# --- 3️⃣ Products with Highest Profit Margins (proxy: average Unit Price) ---\n",
        "avg_price_per_product = sales.groupby('Product')['Unit_Price'].mean().sort_values(ascending=False)\n",
        "print(\"\\n💰 Products with Highest Average Unit Price (as proxy for high profit margin):\")\n",
        "print(avg_price_per_product.head(5))"
      ],
      "execution_count": null,
      "outputs": [
        {
          "output_type": "stream",
          "name": "stdout",
          "text": [
            "Error: sales_data.csv not found at content/sales_data.csv\n",
            "Loaded sales_data.csv from the current directory.\n",
            "🏆 Top 5 Products by Total Revenue:\n",
            "Product\n",
            "Laptop - Business Grade        22788.00\n",
            "Whiteboard - Interactive        7596.00\n",
            "Monitor - 27 inch               7002.00\n",
            "Router - Business Grade         4998.75\n",
            "Business Analytics Software     4998.00\n",
            "Name: Total_Sale, dtype: float64\n",
            "\n",
            "📦 Top 5 Products by Total Units Sold:\n",
            "Product\n",
            "Desk Lamp - LED            45.0\n",
            "Keyboard - Wireless        35.0\n",
            "Mouse - Ergonomic          35.0\n",
            "Router - Business Grade    25.0\n",
            "Monitor - 27 inch          18.0\n",
            "Name: Quantity, dtype: float64\n",
            "\n",
            "💰 Products with Highest Average Unit Price (as proxy for high profit margin):\n",
            "Product\n",
            "Business Analytics Software    2499.0\n",
            "Laptop - Business Grade        1899.0\n",
            "Whiteboard - Interactive       1899.0\n",
            "Security Camera System         1299.0\n",
            "Conference Table               1250.0\n",
            "Name: Unit_Price, dtype: float64\n"
          ]
        }
      ]
    },
    {
      "cell_type": "markdown",
      "metadata": {
        "id": "Pl1YSCyce7qA"
      },
      "source": [
        "**Business Insight Questions:**\n",
        "- Which products should the company stock more of?\n",
        "- Are high-price items selling well, or is volume more important?\n",
        "- What would you recommend to the inventory manager?\n",
        "\n",
        "---\n",
        "\n",
        "## Practice Exercise 1.3: Sales Rep Performance\n",
        "\n",
        "::: {.callout-tip}\n",
        "## Management Challenge\n",
        "\n",
        "Your sales manager wants to recognize top performers and identify who might need additional training.\n",
        "\n",
        "**Your Task**: Create prompts that help analyze:\n",
        "1. Which sales reps are generating the most revenue?\n",
        "2. Who has the highest average sale amounts?\n",
        "3. Are there regional patterns in rep performance?\n",
        "4. Format results suitable for a performance review meeting\n",
        ":::\n",
        "\n",
        "**Your Approach:**"
      ]
    },
    {
      "cell_type": "code",
      "metadata": {
        "id": "bcIWC0YOe7qA",
        "colab": {
          "base_uri": "https://localhost:8080/"
        },
        "outputId": "8cffa857-3af7-470f-d267-988995925bdc"
      },
      "source": [
        "import pandas as pd\n",
        "\n",
        "# Load the sales data\n",
        "sales = pd.read_csv(\"sales_data.csv\")\n",
        "\n",
        "# Clean the 'Total_Sale' column by removing '$' and converting to numeric\n",
        "sales['Total_Sale'] = sales['Total_Sale'].replace({r'\\$': ''}, regex=True).astype(float)\n",
        "\n",
        "# --- 1️⃣ Which Sales Reps Are Generating the Most Revenue? ---\n",
        "revenue_by_rep = sales.groupby('Sales_Rep')['Total_Sale'].sum().sort_values(ascending=False)\n",
        "print(\"💰 Top Sales Reps by Total Revenue:\")\n",
        "print(revenue_by_rep)\n",
        "\n",
        "# --- 2️⃣ Who Has the Highest Average Sale Amounts? ---\n",
        "avg_sale_by_rep = sales.groupby('Sales_Rep')['Total_Sale'].mean().sort_values(ascending=False)\n",
        "print(\"\\n📈 Sales Reps with Highest Average Sale Amounts:\")\n",
        "print(avg_sale_by_rep)\n",
        "\n",
        "# --- 3️⃣ Are There Regional Patterns in Rep Performance? ---\n",
        "rep_region_performance = sales.groupby(['Region', 'Sales_Rep'])['Total_Sale'].sum().unstack(fill_value=0)\n",
        "print(\"\\n🌍 Regional Performance by Sales Rep:\")\n",
        "print(rep_region_performance)\n",
        "\n",
        "# --- 4️⃣ Combine Summary for a Performance Review ---\n",
        "performance_summary = pd.DataFrame({\n",
        "    \"Total Revenue\": revenue_by_rep,\n",
        "    \"Average Sale Amount\": avg_sale_by_rep\n",
        "}).sort_values(\"Total Revenue\", ascending=False)\n",
        "\n",
        "print(\"\\n🧾 Performance Summary for Review:\")\n",
        "print(performance_summary)"
      ],
      "execution_count": null,
      "outputs": [
        {
          "output_type": "stream",
          "name": "stdout",
          "text": [
            "💰 Top Sales Reps by Total Revenue:\n",
            "Sales_Rep\n",
            "David Kumar      32506.50\n",
            "Michael Wong     21085.50\n",
            "Sarah Chen       18396.25\n",
            "Emma Thompson    11904.30\n",
            "Lisa Park        10049.25\n",
            "Name: Total_Sale, dtype: float64\n",
            "\n",
            "📈 Sales Reps with Highest Average Sale Amounts:\n",
            "Sales_Rep\n",
            "David Kumar      8126.6250\n",
            "Michael Wong     5271.3750\n",
            "Sarah Chen       4599.0625\n",
            "Emma Thompson    2976.0750\n",
            "Lisa Park        2512.3125\n",
            "Name: Total_Sale, dtype: float64\n",
            "\n",
            "🌍 Regional Performance by Sales Rep:\n",
            "Sales_Rep  David Kumar  Emma Thompson  Lisa Park  Michael Wong  Sarah Chen\n",
            "Region                                                                    \n",
            "NSW            32506.5            0.0       0.00           0.0    18396.25\n",
            "QLD                0.0        11904.3       0.00           0.0        0.00\n",
            "VIC                0.0            0.0       0.00       21085.5        0.00\n",
            "WA                 0.0            0.0   10049.25           0.0        0.00\n",
            "\n",
            "🧾 Performance Summary for Review:\n",
            "               Total Revenue  Average Sale Amount\n",
            "Sales_Rep                                        \n",
            "David Kumar         32506.50            8126.6250\n",
            "Michael Wong        21085.50            5271.3750\n",
            "Sarah Chen          18396.25            4599.0625\n",
            "Emma Thompson       11904.30            2976.0750\n",
            "Lisa Park           10049.25            2512.3125\n"
          ]
        }
      ]
    },
    {
      "cell_type": "markdown",
      "metadata": {
        "id": "qwYdHViTe7qB"
      },
      "source": [
        "---\n",
        "\n",
        "# Exercise Set 2: Financial Transaction Patterns 💳\n",
        "\n",
        "## Advanced Analysis Practice\n",
        "\n",
        "Using the original transactions data, practice more sophisticated AI collaboration."
      ]
    },
    {
      "cell_type": "code",
      "metadata": {
        "id": "NFBtAxahe7qB"
      },
      "source": [
        "# Reload transaction data for advanced practice\n",
        "transactions_df = pd.read_csv('../data/transactions.csv')\n",
        "print(\"Transaction data loaded for advanced practice\")"
      ],
      "execution_count": null,
      "outputs": []
    },
    {
      "cell_type": "markdown",
      "metadata": {
        "id": "o8S_H18te7qB"
      },
      "source": [
        "## Practice Exercise 2.1: Spending Trend Analysis\n",
        "\n",
        "::: {.callout-tip}\n",
        "## Business Context\n",
        "\n",
        "You're helping a friend understand their spending habits over time.\n",
        "\n",
        "**Challenge**: Ask AI to help you:\n",
        "1. Convert dates to datetime format\n",
        "2. Analyze spending trends by day of week\n",
        "3. Identify if spending has increased over time\n",
        "4. Spot any unusual spending patterns\n",
        "\n",
        "**Focus**: Practice asking AI to explain any complex date handling code it provides.\n",
        ":::\n",
        "\n",
        "**Your Analysis:**"
      ]
    },
    {
      "cell_type": "markdown",
      "source": [
        "My Prompt:\n",
        "hello i am helping my friend understanding his spending habits overtime so please convert dates to datetime format, analyze spending trend as days of week, identify if spending has increased over time, spot any unusual spending patterns alongwith explain any complex date handling code you providing"
      ],
      "metadata": {
        "id": "KpiyOKkVLQFG"
      }
    },
    {
      "cell_type": "code",
      "metadata": {
        "id": "jCObi3NYe7qB",
        "outputId": "1f2ebb31-7659-4ab4-8a65-24e79da82144",
        "colab": {
          "base_uri": "https://localhost:8080/"
        }
      },
      "source": [
        "import pandas as pd\n",
        "\n",
        "# --- 1️⃣ Load your data ---\n",
        "data = pd.read_csv(\"transactions.csv\")\n",
        "\n",
        "# --- 2️⃣ Convert the 'Date' column to datetime format ---\n",
        "# This step turns text like \"2024-01-15\" into a real Python date object\n",
        "# 'errors=\"coerce\"' ensures that any invalid dates become NaT (Not a Time)\n",
        "data[\"Date\"] = pd.to_datetime(data[\"Date\"], errors=\"coerce\")\n",
        "\n",
        "# --- 3️⃣ Clean the 'Amount' column (remove $ if present and convert to numbers) ---\n",
        "data[\"Amount\"] = data[\"Amount\"].astype(str).str.replace(\"$\", \"\", regex=False).astype(float)\n",
        "\n",
        "# --- 4️⃣ Analyze spending trend by day of the week ---\n",
        "# .dt.day_name() extracts the weekday name (like Monday, Tuesday, etc.)\n",
        "data[\"Day_of_Week\"] = data[\"Date\"].dt.day_name()\n",
        "\n",
        "spending_by_day = (\n",
        "    data.groupby(\"Day_of_Week\")[\"Amount\"]\n",
        "    .mean()\n",
        "    .reindex([\"Monday\", \"Tuesday\", \"Wednesday\", \"Thursday\", \"Friday\", \"Saturday\", \"Sunday\"])\n",
        ")\n",
        "print(\"📅 Average Spending by Day of the Week:\")\n",
        "print(spending_by_day)\n",
        "\n",
        "# --- 5️⃣ Analyze monthly spending trend over time ---\n",
        "# Convert the date to a \"Period\" (Year-Month) for monthly grouping\n",
        "data[\"Month\"] = data[\"Date\"].dt.to_period(\"M\")\n",
        "\n",
        "monthly_trend = data.groupby(\"Month\")[\"Amount\"].sum().reset_index()\n",
        "print(\"\\n📈 Total Monthly Spending Trend:\")\n",
        "print(monthly_trend)\n",
        "\n",
        "# --- 6️⃣ Identify if spending has increased over time ---\n",
        "if monthly_trend[\"Amount\"].iloc[-1] > monthly_trend[\"Amount\"].iloc[0]:\n",
        "    print(\"\\n🔼 Spending has increased over time.\")\n",
        "else:\n",
        "    print(\"\\n🔽 Spending has decreased over time.\")\n",
        "\n",
        "# --- 7️⃣ Spot unusual spending patterns (outliers) ---\n",
        "# Mean ± 2 * Standard Deviation rule\n",
        "mean_spend = data[\"Amount\"].mean()\n",
        "std_spend = data[\"Amount\"].std()\n",
        "upper_limit = mean_spend + 2 * std_spend\n",
        "lower_limit = mean_spend - 2 * std_spend\n",
        "\n",
        "unusual_spending = data[\n",
        "    (data[\"Amount\"] > upper_limit) | (data[\"Amount\"] < lower_limit)\n",
        "]\n",
        "\n",
        "print(\"\\n⚠️ Unusual Spending Patterns (Potential Outliers):\")\n",
        "print(unusual_spending[[\"Date\", \"Category\", \"Amount\", \"Description\"]])\n"
      ],
      "execution_count": null,
      "outputs": [
        {
          "output_type": "stream",
          "name": "stdout",
          "text": [
            "📅 Average Spending by Day of the Week:\n",
            "Day_of_Week\n",
            "Monday       99.333333\n",
            "Tuesday      -3.566667\n",
            "Wednesday    90.000000\n",
            "Thursday     30.116667\n",
            "Friday       22.433333\n",
            "Saturday     46.383333\n",
            "Sunday       36.400000\n",
            "Name: Amount, dtype: float64\n",
            "\n",
            "📈 Total Monthly Spending Trend:\n",
            "     Month  Amount\n",
            "0  2024-08   873.3\n",
            "\n",
            "🔽 Spending has decreased over time.\n",
            "\n",
            "⚠️ Unusual Spending Patterns (Potential Outliers):\n",
            "         Date   Category  Amount                  Description\n",
            "11 2024-08-12  Groceries   156.0  Woolworths Fortnightly Shop\n"
          ]
        }
      ]
    },
    {
      "cell_type": "markdown",
      "source": [
        "Complex date handling\n",
        "| Code                                            | Explanation                                                                                                                                                                                                                                                                     | Example                                                   |\n",
        "| :---------------------------------------------- | :------------------------------------------------------------------------------------------------------------------------------------------------------------------------------------------------------------------------------------------------------------------------------ | :-------------------------------------------------------- |\n",
        "| `pd.to_datetime(data[\"Date\"], errors=\"coerce\")` | Converts the text in the Date column into real date/time objects. `\"2024-01-15\"` → becomes a real date Python understands.  <br> `errors=\"coerce\"` means if a date looks wrong (like `\"32/15/2024\"`), it’s replaced with a missing value (`NaT`) instead of breaking your code. | `\"15/03/2024\"` → ✅ OK <br>`\"abcd\"` → ❌ becomes `NaT`      |\n",
        "| `.dt.day_name()`                                | Extracts the **weekday name** from each date.                                                                                                                                                                                                                                   | `\"2024-01-15\"` → `\"Monday\"`                               |\n",
        "| `.dt.to_period(\"M\")`                            | Converts each date to a **month period** (like `2024-01`, `2024-02`). This makes it easy to group by month.                                                                                                                                                                     | `\"2024-01-15\"` → `\"2024-01\"`                              |\n",
        "| `.groupby(\"Month\")[\"Amount\"].sum()`             | Groups your total spending by each month.                                                                                                                                                                                                                                       | Adds up all January spending, all February spending, etc. |\n"
      ],
      "metadata": {
        "id": "19yVdLX-K1zB"
      }
    },
    {
      "cell_type": "markdown",
      "metadata": {
        "id": "I7gMi5_We7qB"
      },
      "source": [
        "## Practice Exercise 2.2: Budget Category Analysis\n",
        "\n",
        "::: {.callout-tip}\n",
        "## Personal Finance Scenario\n",
        "\n",
        "Someone wants to set a realistic monthly budget based on their spending history.\n",
        "\n",
        "**Challenge**: Use AI to help:\n",
        "1. Calculate average monthly spending by category\n",
        "2. Identify categories with high variation (inconsistent spending)\n",
        "3. Suggest realistic budget amounts for each category\n",
        "4. Find categories where spending might be reduced\n",
        "\n",
        "**Advanced**: Ask AI to explain the statistical concepts it uses.\n",
        ":::\n",
        "\n",
        "**Your Budget Analysis:**"
      ]
    },
    {
      "cell_type": "markdown",
      "source": [
        "My prompt:\n",
        "hi i am a personal financer Someone wants to set a realistic monthly budget based on their spending history for that i need your help for calculate average monthly spending by category,  identify categories with inconsistent spending, recommend realistic budget amount by category, find categories where spending can be reduced also explain the statistical concepts you using"
      ],
      "metadata": {
        "id": "jTnw4TF2LyoB"
      }
    },
    {
      "cell_type": "code",
      "metadata": {
        "id": "fR2Vfuxge7qC",
        "outputId": "96d36fac-b877-4cbd-984a-f8bc91602085",
        "colab": {
          "base_uri": "https://localhost:8080/"
        }
      },
      "source": [
        "import pandas as pd\n",
        "\n",
        "# Load the data\n",
        "data = pd.read_csv(\"transactions.csv\")\n",
        "\n",
        "# --- CLEAN THE DATA ---\n",
        "data[\"Amount\"] = data[\"Amount\"].str.replace(\"$\", \"\", regex=False).astype(float)\n",
        "\n",
        "# Convert 'Date' column to datetime\n",
        "data[\"Date\"] = pd.to_datetime(data[\"Date\"])\n",
        "\n",
        "# Create a new column for Year-Month\n",
        "data[\"Month\"] = data[\"Date\"].dt.to_period(\"M\")\n",
        "\n",
        "# --- 1️⃣ Average monthly spending by category ---\n",
        "monthly_spending = data.groupby([\"Month\", \"Category\"])[\"Amount\"].sum().reset_index()\n",
        "avg_monthly_spending = monthly_spending.groupby(\"Category\")[\"Amount\"].mean().sort_values(ascending=False)\n",
        "print(\"💰 Average Monthly Spending by Category:\")\n",
        "print(avg_monthly_spending)\n",
        "\n",
        "# --- 2️⃣ Identify inconsistent spending categories ---\n",
        "# Standard deviation = how much spending varies each month\n",
        "std_spending = monthly_spending.groupby(\"Category\")[\"Amount\"].std()\n",
        "inconsistent = std_spending[std_spending > std_spending.mean()].sort_values(ascending=False)\n",
        "print(\"\\n⚠️ Categories with Inconsistent Spending (high variation month-to-month):\")\n",
        "print(inconsistent)\n",
        "\n",
        "# --- 3️⃣ Recommend realistic budget ---\n",
        "# Budget = average + 10% buffer\n",
        "recommended_budget = avg_monthly_spending * 1.10\n",
        "print(\"\\n📊 Recommended Monthly Budget by Category (10% safety buffer):\")\n",
        "print(recommended_budget)\n",
        "\n",
        "# --- 4️⃣ Identify categories where spending can be reduced ---\n",
        "# These are categories spending above average\n",
        "spending_can_reduce = avg_monthly_spending[avg_monthly_spending > avg_monthly_spending.mean()]\n",
        "print(\"\\n💡 Categories Where Spending Can Be Reduced (above-average spending):\")\n",
        "print(spending_can_reduce)\n"
      ],
      "execution_count": null,
      "outputs": [
        {
          "output_type": "stream",
          "name": "stdout",
          "text": [
            "💰 Average Monthly Spending by Category:\n",
            "Category\n",
            "Groceries        394.70\n",
            "Entertainment    206.95\n",
            "Dining           113.90\n",
            "Transport         89.50\n",
            "Utilities         67.80\n",
            "Coffee            37.95\n",
            "Refund           -37.50\n",
            "Name: Amount, dtype: float64\n",
            "\n",
            "⚠️ Categories with Inconsistent Spending (high variation month-to-month):\n",
            "Series([], Name: Amount, dtype: float64)\n",
            "\n",
            "📊 Recommended Monthly Budget by Category (10% safety buffer):\n",
            "Category\n",
            "Groceries        434.170\n",
            "Entertainment    227.645\n",
            "Dining           125.290\n",
            "Transport         98.450\n",
            "Utilities         74.580\n",
            "Coffee            41.745\n",
            "Refund           -41.250\n",
            "Name: Amount, dtype: float64\n",
            "\n",
            "💡 Categories Where Spending Can Be Reduced (above-average spending):\n",
            "Category\n",
            "Groceries        394.70\n",
            "Entertainment    206.95\n",
            "Name: Amount, dtype: float64\n"
          ]
        }
      ]
    },
    {
      "cell_type": "markdown",
      "source": [
        "**Statistical Concept**\n",
        "| Concept                      | Meaning                                            | Why It Matters                                                    |\n",
        "| :--------------------------- | :------------------------------------------------- | :---------------------------------------------------------------- |\n",
        "| **Mean (Average)**           | Add up all values, divide by how many there are.   | Helps find typical monthly spending per category.                 |\n",
        "| **Standard Deviation (std)** | Measures how much spending changes month to month. | High std → spending is inconsistent (some months high, some low). |\n",
        "| **Period (Month)**           | Groups dates into months.                          | Lets us analyze monthly spending patterns.                        |\n",
        "| **10% Buffer**               | Adds a little extra above the average.             | Prevents under-budgeting when prices or needs change.             |\n"
      ],
      "metadata": {
        "id": "sMTbCNpnHAWX"
      }
    },
    {
      "cell_type": "markdown",
      "metadata": {
        "id": "5pGgGvJee7qC"
      },
      "source": [
        "---\n",
        "\n",
        "# Exercise Set 3: AI Critique Practice 🤔\n",
        "\n",
        "## Common AI Code Issues\n",
        "\n",
        "Below are examples of AI-generated code with issues. Practice your critique skills!\n",
        "\n",
        "### Critique Exercise 1: Overly Complex Code\n",
        "\n",
        "```python\n",
        "# AI generated this code - what's wrong with it?\n",
        "import pandas as pd\n",
        "import numpy as np\n",
        "from datetime import datetime\n",
        "\n",
        "def complex_analysis(data):\n",
        "    result = data.groupby([pd.Grouper(key='Date', freq='M'), 'Category']).agg({\n",
        "        'Amount': [lambda x: pd.to_numeric(x.str.replace('$', ''), errors='coerce').sum(),\n",
        "                   lambda x: pd.to_numeric(x.str.replace('$', ''), errors='coerce').mean(),\n",
        "                   lambda x: pd.to_numeric(x.str.replace('$', ''), errors='coerce').std()]\n",
        "    }).reset_index()\n",
        "    \n",
        "    result.columns = ['_'.join(col).strip() for col in result.columns.values]\n",
        "    return result.fillna(0).round(2)\n",
        "\n",
        "# Complex usage\n",
        "df['Date'] = pd.to_datetime(df['Date'])\n",
        "complex_result = complex_analysis(transactions_df)\n",
        "print(complex_result.head())\n",
        "```\n",
        "\n",
        "**Your Critique:**\n",
        "\n",
        "::: {.callout-warning}\n",
        "## Issues to Identify\n",
        "\n",
        "1. What makes this code hard to understand?\n",
        "2. What would you ask AI to simplify?\n",
        "3. How would you request a clearer version?\n",
        "\n",
        "**Write your critique prompt:**\n",
        ":::\n",
        "\n",
        "```\n",
        "My Critique: # AI generated this code - what's wrong with it?\n",
        "import pandas as pd\n",
        "import numpy as np\n",
        "from datetime import datetime\n",
        "\n",
        "def complex_analysis(data):\n",
        "    result = data.groupby([pd.Grouper(key='Date', freq='M'), 'Category']).agg({\n",
        "        'Amount': [lambda x: pd.to_numeric(x.str.replace('$', ''), errors='coerce').sum(),\n",
        "                   lambda x: pd.to_numeric(x.str.replace('$', ''), errors='coerce').mean(),\n",
        "                   lambda x: pd.to_numeric(x.str.replace('$', ''), errors='coerce').std()]\n",
        "    }).reset_index()\n",
        "    \n",
        "    result.columns = ['_'.join(col).strip() for col in result.columns.values]\n",
        "    return result.fillna(0).round(2)\n",
        "\n",
        "# Complex usage\n",
        "df['Date'] = pd.to_datetime(df['Date'])\n",
        "complex_result = complex_analysis(transactions_df)\n",
        "print(complex_result.head())                                                                                                          hi i have this this code can you please identify what this code makes hard to understand, and can you please simplify it for me and can i get a clearer version of this\n",
        "```\n",
        "\n",
        "### Critique Exercise 2: Poor Business Context\n",
        "\n",
        "```python\n",
        "# AI code that works but lacks business insight\n",
        "df_grouped = df.groupby('cat')['amt'].sum().sort_values()\n",
        "print(df_grouped)\n",
        "```\n",
        "\n",
        "**Problems:**\n",
        "- Unclear column references\n",
        "- No business explanation\n",
        "- Poor formatting\n",
        "- No context for results\n",
        "\n",
        "**Your Improvement Prompt:**\n",
        "```\n",
        "[How would you ask AI to make this more business-appropriate?]\n",
        "```\n",
        "\n",
        "---\n",
        "\n",
        "# Exercise Set 4: Real-World Business Scenarios 🏢\n",
        "\n",
        "## Scenario 1: Retail Store Analysis\n",
        "\n",
        "::: {.callout-note}\n",
        "## Business Context\n",
        "\n",
        "You're analyzing sales data for a small retail chain. They want to know:\n",
        "- Which stores need more inventory\n",
        "- What products to discontinue\n",
        "- When to schedule promotional campaigns\n",
        "- How to allocate sales staff\n",
        "\n",
        "**Data**: Use the sales_data.csv but imagine it represents different store locations instead of regions.\n",
        ":::\n",
        "\n",
        "**Your Business Analysis:**"
      ]
    },
    {
      "cell_type": "code",
      "metadata": {
        "id": "H69y_4Gke7qC"
      },
      "source": [
        "# Practice comprehensive business analysis with AI assistance\n",
        "# Focus on actionable insights, not just data summaries"
      ],
      "execution_count": null,
      "outputs": []
    },
    {
      "cell_type": "markdown",
      "metadata": {
        "id": "6OwLvMfae7qC"
      },
      "source": [
        "## Scenario 2: Personal Finance Coaching\n",
        "\n",
        "::: {.callout-note}\n",
        "## Business Context\n",
        "\n",
        "You're building a personal finance app feature that provides spending advice.\n",
        "\n",
        "**Challenge**: Use AI to create code that:\n",
        "1. Identifies spending categories that are above typical percentages\n",
        "2. Suggests specific areas for potential savings\n",
        "3. Provides encouraging feedback for good spending habits\n",
        "4. Formats advice in a user-friendly way\n",
        ":::\n",
        "\n",
        "**Your Coaching Algorithm:**"
      ]
    },
    {
      "cell_type": "code",
      "metadata": {
        "id": "zqhSvplXe7qC"
      },
      "source": [
        "# AI-assisted personal finance advice generation"
      ],
      "execution_count": null,
      "outputs": []
    },
    {
      "cell_type": "markdown",
      "metadata": {
        "id": "P-_fAqK2e7qD"
      },
      "source": [
        "---\n",
        "\n",
        "# Self-Assessment Checklist ✅\n",
        "\n",
        "After completing these exercises, evaluate your AI collaboration skills:\n",
        "\n",
        "## AI Prompting Skills\n",
        "- ☐ I can write prompts that include business context\n",
        "- ☐ I specify desired output format and structure  \n",
        "- ☐ I ask follow-up questions to improve AI responses\n",
        "- ☐ I can request explanations of complex code\n",
        "\n",
        "## Code Critique Skills\n",
        "- ☐ I can identify when AI code is too complex\n",
        "- ☐ I recognize when variable names need improvement\n",
        "- ☐ I spot when business context is missing\n",
        "- ☐ I ask for clearer, more maintainable solutions\n",
        "\n",
        "## Business Application Skills  \n",
        "- ☐ I connect data analysis to real business decisions\n",
        "- ☐ I can explain technical results in business terms\n",
        "- ☐ I consider edge cases and data quality issues\n",
        "- ☐ I format results for business presentation\n",
        "\n",
        "## Learning Documentation\n",
        "- ☐ I document what I learned from each AI interaction\n",
        "- ☐ I record effective prompts for future use\n",
        "- ☐ I note when AI explanations helped my understanding\n",
        "- ☐ I reflect on how to improve my collaboration\n",
        "\n",
        "---\n",
        "\n",
        "# Reflection Questions 🤔\n",
        "\n",
        "Before finishing your practice session, consider:\n",
        "\n",
        "1. **Which AI interactions were most helpful for your learning?**\n",
        "2. **What types of prompts got you the best code explanations?**\n",
        "3. **When did you successfully critique and improve AI responses?**\n",
        "4. **How has your confidence with business data analysis changed?**\n",
        "5. **What AI collaboration strategies will you use in your assignment?**\n",
        "\n",
        "---\n",
        "\n",
        "# Next Steps 🚀\n",
        "\n",
        "**For Your Assignment:**\n",
        "- Apply these prompting techniques to your Smart Finance Assistant\n",
        "- Use the critique skills to ensure your code is business-appropriate\n",
        "- Document successful AI interactions in your Developer's Diary\n",
        "- Build on the confidence you've gained with these practice exercises\n",
        "\n",
        "**Remember**: You're not trying to become a pandas expert overnight. You're becoming skilled at directing AI to solve business problems efficiently and effectively.\n",
        "\n",
        "**Great practice work! These skills will serve you well throughout your Smart Finance Assistant project and in your future career! 🎉**"
      ]
    }
  ],
  "metadata": {
    "kernelspec": {
      "display_name": "Python 3",
      "language": "python",
      "name": "python3"
    },
    "colab": {
      "provenance": [],
      "include_colab_link": true
    }
  },
  "nbformat": 4,
  "nbformat_minor": 0
}
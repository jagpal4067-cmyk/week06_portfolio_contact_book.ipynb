{
  "cells": [
    {
      "cell_type": "markdown",
      "metadata": {
        "id": "view-in-github",
        "colab_type": "text"
      },
      "source": [
        "<a href=\"https://colab.research.google.com/github/jagpal4067-cmyk/week06_portfolio_contact_book.ipynb/blob/main/week09_practice.ipynb\" target=\"_parent\"><img src=\"https://colab.research.google.com/assets/colab-badge.svg\" alt=\"Open In Colab\"/></a>"
      ]
    },
    {
      "cell_type": "raw",
      "metadata": {
        "id": "_YnN953ge7p7"
      },
      "source": [
        "---\n",
        "title: \"Week 8: Additional Practice - Building AI Collaboration Skills\"\n",
        "subtitle: \"ISYS2001 Introduction to Business Programming\"\n",
        "author: \"Your Name\"\n",
        "date: \"September 2024\"\n",
        "format:\n",
        "  html:\n",
        "    toc: true\n",
        "    toc-expand: 2\n",
        "    code-fold: false\n",
        "    embed-resources: true\n",
        "---"
      ]
    },
    {
      "cell_type": "markdown",
      "metadata": {
        "id": "8dFIBw4Ke7p9"
      },
      "source": [
        "# 🎯 Building Confidence with AI-Assisted Data Analysis\n",
        "\n",
        "This notebook provides additional practice exercises to strengthen your AI collaboration skills and build confidence with business data processing. Use these exercises to deepen your understanding before or after the main workshop.\n",
        "\n",
        "**Remember**: The goal isn't to memorize pandas syntax - it's to become effective at directing AI to solve business problems."
      ]
    },
    {
      "cell_type": "markdown",
      "metadata": {
        "id": "5gedsuWxe7p-"
      },
      "source": [
        "---\n",
        "\n",
        "# Exercise Set 1: Sales Data Analysis 📊\n",
        "\n",
        "## Business Context\n",
        "\n",
        "You're working as a Business Analyst for an office supply company. Your manager has given you sales data and asked for insights to help plan next quarter's inventory and sales strategy.\n",
        "\n",
        "## Data Overview\n",
        "\n",
        "We'll use the `sales_data.csv` file with columns:\n",
        "- **Date**: Sale date\n",
        "- **Product**: Product name\n",
        "- **Quantity**: Units sold\n",
        "- **Unit_Price**: Price per unit (with $ signs)\n",
        "- **Total_Sale**: Total transaction value\n",
        "- **Sales_Rep**: Employee who made the sale\n",
        "- **Region**: Geographic region"
      ]
    },
    {
      "cell_type": "code",
      "metadata": {
        "id": "mX3ehR2fe7p-"
      },
      "source": [
        "import pandas as pd\n",
        "\n",
        "# Load the sales data\n",
        "sales_df = pd.read_csv('../data/sales_data.csv')\n",
        "\n",
        "# Display first few rows\n",
        "print(\"📋 Sales Data Sample:\")\n",
        "print(\"=\" * 40)\n",
        "print(sales_df.head())\n",
        "print(f\"\\nDataset: {len(sales_df)} transactions across {sales_df['Region'].nunique()} regions\")"
      ],
      "execution_count": null,
      "outputs": []
    },
    {
      "cell_type": "markdown",
      "metadata": {
        "id": "ZYDPPuFKe7p_"
      },
      "source": [
        "## Practice Exercise 1.1: Sales Performance by Region\n",
        "\n",
        "::: {.callout-tip}\n",
        "## Your AI Collaboration Challenge\n",
        "\n",
        "**Business Question**: \"Which region is performing best, and what's the average sale size by region?\"\n",
        "\n",
        "**Your Task**: Practice prompting AI with this business context. Try creating a prompt that asks for:\n",
        "1. Total sales by region\n",
        "2. Average sale amount by region  \n",
        "3. Number of transactions by region\n",
        "4. Results formatted for a manager presentation\n",
        "\n",
        "**Write your prompt below, then see what AI generates:**\n",
        ":::\n",
        "\n",
        "**Your Prompt:**\n",
        "hi i am beginner in a coding i got a work to do on sales_data in this i have to use thisDate: Sale date\n",
        "Product , Quantity, Unit_Price, Total_Sale, Sales_Rep, Region and this are the task i have to do about total sales, average sale amount, number of transactions by region and result formatted for a presentation so give me code for sales_data. but i want you to use only panda library in a simple way\n",
        "\n",
        "**AI Response:**"
      ]
    },
    {
      "cell_type": "code",
      "metadata": {
        "colab": {
          "base_uri": "https://localhost:8080/"
        },
        "id": "TLQ3g3wte7p_",
        "outputId": "fb066e68-2576-4a1b-eed0-7f325d034ecd"
      },
      "source": [
        "# Paste AI-generated code here and run it\n",
        "# Remember to critique and improve if needed!\n",
        "import pandas as pd\n",
        "\n",
        "# Load the sales data\n",
        "# Assuming the data is in the correct path as used in the previous cell\n",
        "# sales = pd.read_csv(\"sales_data.csv\")\n",
        "\n",
        "# Clean the 'Total_Sale' column by removing '$' and converting to numeric\n",
        "sales['Total_Sale'] = sales['Total_Sale'].replace({'\\$': ''}, regex=True).astype(float)\n",
        "\n",
        "# Calculate total and average sales\n",
        "total_sales = sales[\"Total_Sale\"].sum()\n",
        "average_sale = sales[\"Total_Sale\"].mean()\n",
        "\n",
        "# Transactions and total sales by region\n",
        "transactions_by_region = sales[\"Region\"].value_counts()\n",
        "total_sales_by_region = sales.groupby(\"Region\")[\"Total_Sale\"].sum()\n",
        "\n",
        "# Create a summary table\n",
        "summary = pd.DataFrame({\n",
        "    \"Total Sales\": total_sales_by_region,\n",
        "    \"Transactions\": transactions_by_region\n",
        "})\n",
        "summary[\"Average Sale per Transaction\"] = summary[\"Total Sales\"] / summary[\"Transactions\"]\n",
        "summary = summary.sort_values(\"Total Sales\", ascending=False)\n",
        "\n",
        "# Display all results\n",
        "print(\"✅ Total Sales: ${:,.2f}\".format(total_sales))\n",
        "print(\"✅ Average Sale Amount: ${:,.2f}\".format(average_sale))\n",
        "print(\"\\n📊 Summary Table by Region:\")\n",
        "print(summary)\n",
        "\n",
        "# Save summary to CSV\n",
        "# summary.to_csv(\"sales_summary.csv\", index=True)\n",
        "# print(\"\\n💾 'sales_summary.csv' saved successfully!\")"
      ],
      "execution_count": 4,
      "outputs": [
        {
          "output_type": "stream",
          "name": "stdout",
          "text": [
            "✅ Total Sales: $93,941.80\n",
            "✅ Average Sale Amount: $4,697.09\n",
            "\n",
            "📊 Summary Table by Region:\n",
            "        Total Sales  Transactions  Average Sale per Transaction\n",
            "Region                                                         \n",
            "NSW        50902.75             8                    6362.84375\n",
            "VIC        21085.50             4                    5271.37500\n",
            "QLD        11904.30             4                    2976.07500\n",
            "WA         10049.25             4                    2512.31250\n"
          ]
        },
        {
          "output_type": "stream",
          "name": "stderr",
          "text": [
            "<>:10: SyntaxWarning: invalid escape sequence '\\$'\n",
            "<>:10: SyntaxWarning: invalid escape sequence '\\$'\n",
            "/tmp/ipython-input-2328565323.py:10: SyntaxWarning: invalid escape sequence '\\$'\n",
            "  sales['Total_Sale'] = sales['Total_Sale'].replace({'\\$': ''}, regex=True).astype(float)\n"
          ]
        }
      ]
    },
    {
      "cell_type": "markdown",
      "source": [
        "**MY CRITIQUE**\n",
        "```\n",
        "import pandas as pd\n",
        "\n",
        "# Load the sales data\n",
        "# Assuming the data is in the correct path as used in the previous cell\n",
        "# sales = pd.read_csv(\"sales_data.csv\")\n",
        "\n",
        "# Clean the 'Total_Sale' column by removing '$' and converting to numeric\n",
        "sales['Total_Sale'] = sales['Total_Sale'].replace({'\\$': ''}, regex=True).astype(float)\n",
        "\n",
        "# Calculate total and average sales\n",
        "total_sales = sales[\"Total_Sale\"].sum()\n",
        "average_sale = sales[\"Total_Sale\"].mean()\n",
        "\n",
        "# Transactions and total sales by region\n",
        "transactions_by_region = sales[\"Region\"].value_counts()\n",
        "total_sales_by_region = sales.groupby(\"Region\")[\"Total_Sale\"].sum()\n",
        "\n",
        "# Create a summary table\n",
        "summary = pd.DataFrame({\n",
        "    \"Total Sales\": total_sales_by_region,\n",
        "    \"Transactions\": transactions_by_region\n",
        "})                                                                                                                                                                                 summary[\"Average Sale per Transaction\"] = summary[\"Total Sales\"] / summary[\"Transactions\"]\n",
        "summary = summary.sort_values(\"Total Sales\", ascending=False)\n",
        "\n",
        "# Display all results\n",
        "print(\"✅ Total Sales: ${:,.2f}\".format(total_sales))\n",
        "print(\"✅ Average Sale Amount: ${:,.2f}\".format(average_sale))\n",
        "print(\"\\n📊 Summary Table by Region:\")\n",
        "print(summary)\n",
        "\n",
        "# Save summary to CSV\n",
        "# summary.to_csv(\"sales_summary.csv\", index=True)\n",
        "# print(\"\\n💾 'sales_summary.csv' saved successfully!\")  \n",
        "```  \n",
        "hey this is a code in this explain me this in simple summary  because some code i don't know about that like in total sale replace regex\n",
        "\n",
        "**AI Response**\n",
        "\n",
        "This Python code uses only pandas to analyze your sales data.\n",
        "\n",
        "Loads the data from a CSV file into a pandas table.\n",
        "\n",
        "Cleans the “Total_Sale” column by removing the $ sign and turning the values into numbers.\n",
        "\n",
        "Calculates overall totals:\n",
        "\n",
        "The total amount of all sales\n",
        "\n",
        "The average sale amount\n",
        "\n",
        "Groups the data by region to find:\n",
        "\n",
        "How many sales (transactions) happened in each region\n",
        "\n",
        "How much total money was made in each region\n",
        "\n",
        "Creates a summary table showing each region’s total sales, number of transactions, and average sale per transaction.\n",
        "\n",
        "Sorts the summary so the regions with the highest total sales appear first.\n",
        "\n",
        "Prints all the results in a neat, easy-to-read format.\n",
        "\n",
        "(Optional) — You can save the summary table to a new CSV file for your presentation."
      ],
      "metadata": {
        "id": "BxNvFaV_vL_F"
      }
    },
    {
      "cell_type": "markdown",
      "metadata": {
        "id": "lna1n7POe7qA"
      },
      "source": [
        "**Your Critique:**\n",
        "- What did AI do well?\n",
        "- What would you ask AI to improve?\n",
        "- Does the output help answer the business question?\n",
        "\n",
        "---\n",
        "\n",
        "## Practice Exercise 1.2: Top Performing Products\n",
        "\n",
        "::: {.callout-tip}\n",
        "## Business Scenario\n",
        "\n",
        "Your inventory manager needs to know which products to stock more of next quarter.\n",
        "\n",
        "**Challenge**: Ask AI to identify the top 5 products by:\n",
        "- Total revenue generated\n",
        "- Total units sold\n",
        "- Which products have the highest profit margins (hint: compare unit price trends)\n",
        "\n",
        "**Practice better prompting**: Be specific about formatting and business context.\n",
        ":::\n",
        "\n",
        "**Your Prompt:**\n",
        "```\n",
        "[Your AI prompt here]\n",
        "```\n",
        "\n",
        "**AI Response:**"
      ]
    },
    {
      "cell_type": "code",
      "metadata": {
        "colab": {
          "base_uri": "https://localhost:8080/",
          "height": 1000
        },
        "id": "mLrDbYrse7qA",
        "outputId": "e398db97-cb0f-45e5-e32c-deb059fa566b"
      },
      "source": [
        "# AI-generimport pandas as pd\n",
        "\n",
        "# Load your sales data\n",
        "# Assuming the data is in the correct path as used in the previous cell\n",
        "# sales = pd.read_csv(\"sales_data.csv\")\n",
        "\n",
        "# Clean the Total_Sale column (remove '$' if it exists)\n",
        "sales['Total_Sale'] = sales['Total_Sale'].replace({'\\$': ''}, regex=True).astype(float)\n",
        "\n",
        "# Make sure Quantity and Unit_Price are numbers\n",
        "sales['Quantity'] = sales['Quantity'].astype(float)\n",
        "sales['Unit_Price'] = pd.to_numeric(sales['Unit_Price'].str.replace('$', '', regex=False), errors='coerce')\n",
        "\n",
        "# --- 1️⃣ Top 5 Products by Total Revenue ---\n",
        "revenue_by_product = sales.groupby('Product')['Total_Sale'].sum().sort_values(ascending=False)\n",
        "top5_revenue_products = revenue_by_product.head(5)\n",
        "print(\"🏆 Top 5 Products by Total Revenue:\")\n",
        "print(top5_revenue_products)\n",
        "\n",
        "# --- 2️⃣ Top 5 Products by Total Units Sold ---\n",
        "units_sold_by_product = sales.groupby('Product')['Quantity'].sum().sort_values(ascending=False)\n",
        "top5_units_products = units_sold_by_product.head(5)\n",
        "print(\"\\n📦 Top 5 Products by Total Units Sold:\")\n",
        "print(top5_units_products)\n",
        "\n",
        "# --- 3️⃣ Products with Highest Profit Margins ---\n",
        "# (Assuming profit margin = (Total_Sale - Cost) / Total_Sale — but if Cost not given, we can estimate)\n",
        "# For now, let's assume Unit_Price * Quantity = Total_Sale, so we’ll use Unit_Price as a proxy\n",
        "\n",
        "# Calculate revenue and cost\n",
        "# Assuming Total_Sale is the revenue for each row\n",
        "sales['Revenue'] = sales['Total_Sale']\n",
        "\n",
        "# If you had a cost column (like 'Cost_Price'), you could calculate real margin.\n",
        "# Here, we’ll just use average sale price as a basic example:\n",
        "avg_price_per_product = sales.groupby('Product')['Unit_Price'].mean().sort_values(ascending=False)\n",
        "print(\"\\n💰 Products with Highest Average Unit Price (as proxy for high profit margin):\")\n",
        "print(avg_price_per_product.head(5))"
      ],
      "execution_count": 10,
      "outputs": [
        {
          "output_type": "stream",
          "name": "stderr",
          "text": [
            "<>:8: SyntaxWarning: invalid escape sequence '\\$'\n",
            "<>:8: SyntaxWarning: invalid escape sequence '\\$'\n",
            "/tmp/ipython-input-2545224158.py:8: SyntaxWarning: invalid escape sequence '\\$'\n",
            "  sales['Total_Sale'] = sales['Total_Sale'].replace({'\\$': ''}, regex=True).astype(float)\n"
          ]
        },
        {
          "output_type": "error",
          "ename": "ValueError",
          "evalue": "could not convert string to float: '$2'",
          "traceback": [
            "\u001b[0;31m---------------------------------------------------------------------------\u001b[0m",
            "\u001b[0;31mValueError\u001b[0m                                Traceback (most recent call last)",
            "\u001b[0;32m/tmp/ipython-input-2545224158.py\u001b[0m in \u001b[0;36m<cell line: 0>\u001b[0;34m()\u001b[0m\n\u001b[1;32m      9\u001b[0m \u001b[0;34m\u001b[0m\u001b[0m\n\u001b[1;32m     10\u001b[0m \u001b[0;31m# Make sure Quantity and Unit_Price are numbers\u001b[0m\u001b[0;34m\u001b[0m\u001b[0;34m\u001b[0m\u001b[0m\n\u001b[0;32m---> 11\u001b[0;31m \u001b[0msales\u001b[0m\u001b[0;34m[\u001b[0m\u001b[0;34m'Quantity'\u001b[0m\u001b[0;34m]\u001b[0m \u001b[0;34m=\u001b[0m \u001b[0msales\u001b[0m\u001b[0;34m[\u001b[0m\u001b[0;34m'Quantity'\u001b[0m\u001b[0;34m]\u001b[0m\u001b[0;34m.\u001b[0m\u001b[0mastype\u001b[0m\u001b[0;34m(\u001b[0m\u001b[0mfloat\u001b[0m\u001b[0;34m)\u001b[0m\u001b[0;34m\u001b[0m\u001b[0;34m\u001b[0m\u001b[0m\n\u001b[0m\u001b[1;32m     12\u001b[0m \u001b[0msales\u001b[0m\u001b[0;34m[\u001b[0m\u001b[0;34m'Unit_Price'\u001b[0m\u001b[0;34m]\u001b[0m \u001b[0;34m=\u001b[0m \u001b[0mpd\u001b[0m\u001b[0;34m.\u001b[0m\u001b[0mto_numeric\u001b[0m\u001b[0;34m(\u001b[0m\u001b[0msales\u001b[0m\u001b[0;34m[\u001b[0m\u001b[0;34m'Unit_Price'\u001b[0m\u001b[0;34m]\u001b[0m\u001b[0;34m.\u001b[0m\u001b[0mstr\u001b[0m\u001b[0;34m.\u001b[0m\u001b[0mreplace\u001b[0m\u001b[0;34m(\u001b[0m\u001b[0;34m'$'\u001b[0m\u001b[0;34m,\u001b[0m \u001b[0;34m''\u001b[0m\u001b[0;34m,\u001b[0m \u001b[0mregex\u001b[0m\u001b[0;34m=\u001b[0m\u001b[0;32mFalse\u001b[0m\u001b[0;34m)\u001b[0m\u001b[0;34m,\u001b[0m \u001b[0merrors\u001b[0m\u001b[0;34m=\u001b[0m\u001b[0;34m'coerce'\u001b[0m\u001b[0;34m)\u001b[0m\u001b[0;34m\u001b[0m\u001b[0;34m\u001b[0m\u001b[0m\n\u001b[1;32m     13\u001b[0m \u001b[0;34m\u001b[0m\u001b[0m\n",
            "\u001b[0;32m/usr/local/lib/python3.12/dist-packages/pandas/core/generic.py\u001b[0m in \u001b[0;36mastype\u001b[0;34m(self, dtype, copy, errors)\u001b[0m\n\u001b[1;32m   6641\u001b[0m         \u001b[0;32melse\u001b[0m\u001b[0;34m:\u001b[0m\u001b[0;34m\u001b[0m\u001b[0;34m\u001b[0m\u001b[0m\n\u001b[1;32m   6642\u001b[0m             \u001b[0;31m# else, only a single dtype is given\u001b[0m\u001b[0;34m\u001b[0m\u001b[0;34m\u001b[0m\u001b[0m\n\u001b[0;32m-> 6643\u001b[0;31m             \u001b[0mnew_data\u001b[0m \u001b[0;34m=\u001b[0m \u001b[0mself\u001b[0m\u001b[0;34m.\u001b[0m\u001b[0m_mgr\u001b[0m\u001b[0;34m.\u001b[0m\u001b[0mastype\u001b[0m\u001b[0;34m(\u001b[0m\u001b[0mdtype\u001b[0m\u001b[0;34m=\u001b[0m\u001b[0mdtype\u001b[0m\u001b[0;34m,\u001b[0m \u001b[0mcopy\u001b[0m\u001b[0;34m=\u001b[0m\u001b[0mcopy\u001b[0m\u001b[0;34m,\u001b[0m \u001b[0merrors\u001b[0m\u001b[0;34m=\u001b[0m\u001b[0merrors\u001b[0m\u001b[0;34m)\u001b[0m\u001b[0;34m\u001b[0m\u001b[0;34m\u001b[0m\u001b[0m\n\u001b[0m\u001b[1;32m   6644\u001b[0m             \u001b[0mres\u001b[0m \u001b[0;34m=\u001b[0m \u001b[0mself\u001b[0m\u001b[0;34m.\u001b[0m\u001b[0m_constructor_from_mgr\u001b[0m\u001b[0;34m(\u001b[0m\u001b[0mnew_data\u001b[0m\u001b[0;34m,\u001b[0m \u001b[0maxes\u001b[0m\u001b[0;34m=\u001b[0m\u001b[0mnew_data\u001b[0m\u001b[0;34m.\u001b[0m\u001b[0maxes\u001b[0m\u001b[0;34m)\u001b[0m\u001b[0;34m\u001b[0m\u001b[0;34m\u001b[0m\u001b[0m\n\u001b[1;32m   6645\u001b[0m             \u001b[0;32mreturn\u001b[0m \u001b[0mres\u001b[0m\u001b[0;34m.\u001b[0m\u001b[0m__finalize__\u001b[0m\u001b[0;34m(\u001b[0m\u001b[0mself\u001b[0m\u001b[0;34m,\u001b[0m \u001b[0mmethod\u001b[0m\u001b[0;34m=\u001b[0m\u001b[0;34m\"astype\"\u001b[0m\u001b[0;34m)\u001b[0m\u001b[0;34m\u001b[0m\u001b[0;34m\u001b[0m\u001b[0m\n",
            "\u001b[0;32m/usr/local/lib/python3.12/dist-packages/pandas/core/internals/managers.py\u001b[0m in \u001b[0;36mastype\u001b[0;34m(self, dtype, copy, errors)\u001b[0m\n\u001b[1;32m    428\u001b[0m             \u001b[0mcopy\u001b[0m \u001b[0;34m=\u001b[0m \u001b[0;32mFalse\u001b[0m\u001b[0;34m\u001b[0m\u001b[0;34m\u001b[0m\u001b[0m\n\u001b[1;32m    429\u001b[0m \u001b[0;34m\u001b[0m\u001b[0m\n\u001b[0;32m--> 430\u001b[0;31m         return self.apply(\n\u001b[0m\u001b[1;32m    431\u001b[0m             \u001b[0;34m\"astype\"\u001b[0m\u001b[0;34m,\u001b[0m\u001b[0;34m\u001b[0m\u001b[0;34m\u001b[0m\u001b[0m\n\u001b[1;32m    432\u001b[0m             \u001b[0mdtype\u001b[0m\u001b[0;34m=\u001b[0m\u001b[0mdtype\u001b[0m\u001b[0;34m,\u001b[0m\u001b[0;34m\u001b[0m\u001b[0;34m\u001b[0m\u001b[0m\n",
            "\u001b[0;32m/usr/local/lib/python3.12/dist-packages/pandas/core/internals/managers.py\u001b[0m in \u001b[0;36mapply\u001b[0;34m(self, f, align_keys, **kwargs)\u001b[0m\n\u001b[1;32m    361\u001b[0m                 \u001b[0mapplied\u001b[0m \u001b[0;34m=\u001b[0m \u001b[0mb\u001b[0m\u001b[0;34m.\u001b[0m\u001b[0mapply\u001b[0m\u001b[0;34m(\u001b[0m\u001b[0mf\u001b[0m\u001b[0;34m,\u001b[0m \u001b[0;34m**\u001b[0m\u001b[0mkwargs\u001b[0m\u001b[0;34m)\u001b[0m\u001b[0;34m\u001b[0m\u001b[0;34m\u001b[0m\u001b[0m\n\u001b[1;32m    362\u001b[0m             \u001b[0;32melse\u001b[0m\u001b[0;34m:\u001b[0m\u001b[0;34m\u001b[0m\u001b[0;34m\u001b[0m\u001b[0m\n\u001b[0;32m--> 363\u001b[0;31m                 \u001b[0mapplied\u001b[0m \u001b[0;34m=\u001b[0m \u001b[0mgetattr\u001b[0m\u001b[0;34m(\u001b[0m\u001b[0mb\u001b[0m\u001b[0;34m,\u001b[0m \u001b[0mf\u001b[0m\u001b[0;34m)\u001b[0m\u001b[0;34m(\u001b[0m\u001b[0;34m**\u001b[0m\u001b[0mkwargs\u001b[0m\u001b[0;34m)\u001b[0m\u001b[0;34m\u001b[0m\u001b[0;34m\u001b[0m\u001b[0m\n\u001b[0m\u001b[1;32m    364\u001b[0m             \u001b[0mresult_blocks\u001b[0m \u001b[0;34m=\u001b[0m \u001b[0mextend_blocks\u001b[0m\u001b[0;34m(\u001b[0m\u001b[0mapplied\u001b[0m\u001b[0;34m,\u001b[0m \u001b[0mresult_blocks\u001b[0m\u001b[0;34m)\u001b[0m\u001b[0;34m\u001b[0m\u001b[0;34m\u001b[0m\u001b[0m\n\u001b[1;32m    365\u001b[0m \u001b[0;34m\u001b[0m\u001b[0m\n",
            "\u001b[0;32m/usr/local/lib/python3.12/dist-packages/pandas/core/internals/blocks.py\u001b[0m in \u001b[0;36mastype\u001b[0;34m(self, dtype, copy, errors, using_cow, squeeze)\u001b[0m\n\u001b[1;32m    756\u001b[0m             \u001b[0mvalues\u001b[0m \u001b[0;34m=\u001b[0m \u001b[0mvalues\u001b[0m\u001b[0;34m[\u001b[0m\u001b[0;36m0\u001b[0m\u001b[0;34m,\u001b[0m \u001b[0;34m:\u001b[0m\u001b[0;34m]\u001b[0m  \u001b[0;31m# type: ignore[call-overload]\u001b[0m\u001b[0;34m\u001b[0m\u001b[0;34m\u001b[0m\u001b[0m\n\u001b[1;32m    757\u001b[0m \u001b[0;34m\u001b[0m\u001b[0m\n\u001b[0;32m--> 758\u001b[0;31m         \u001b[0mnew_values\u001b[0m \u001b[0;34m=\u001b[0m \u001b[0mastype_array_safe\u001b[0m\u001b[0;34m(\u001b[0m\u001b[0mvalues\u001b[0m\u001b[0;34m,\u001b[0m \u001b[0mdtype\u001b[0m\u001b[0;34m,\u001b[0m \u001b[0mcopy\u001b[0m\u001b[0;34m=\u001b[0m\u001b[0mcopy\u001b[0m\u001b[0;34m,\u001b[0m \u001b[0merrors\u001b[0m\u001b[0;34m=\u001b[0m\u001b[0merrors\u001b[0m\u001b[0;34m)\u001b[0m\u001b[0;34m\u001b[0m\u001b[0;34m\u001b[0m\u001b[0m\n\u001b[0m\u001b[1;32m    759\u001b[0m \u001b[0;34m\u001b[0m\u001b[0m\n\u001b[1;32m    760\u001b[0m         \u001b[0mnew_values\u001b[0m \u001b[0;34m=\u001b[0m \u001b[0mmaybe_coerce_values\u001b[0m\u001b[0;34m(\u001b[0m\u001b[0mnew_values\u001b[0m\u001b[0;34m)\u001b[0m\u001b[0;34m\u001b[0m\u001b[0;34m\u001b[0m\u001b[0m\n",
            "\u001b[0;32m/usr/local/lib/python3.12/dist-packages/pandas/core/dtypes/astype.py\u001b[0m in \u001b[0;36mastype_array_safe\u001b[0;34m(values, dtype, copy, errors)\u001b[0m\n\u001b[1;32m    235\u001b[0m \u001b[0;34m\u001b[0m\u001b[0m\n\u001b[1;32m    236\u001b[0m     \u001b[0;32mtry\u001b[0m\u001b[0;34m:\u001b[0m\u001b[0;34m\u001b[0m\u001b[0;34m\u001b[0m\u001b[0m\n\u001b[0;32m--> 237\u001b[0;31m         \u001b[0mnew_values\u001b[0m \u001b[0;34m=\u001b[0m \u001b[0mastype_array\u001b[0m\u001b[0;34m(\u001b[0m\u001b[0mvalues\u001b[0m\u001b[0;34m,\u001b[0m \u001b[0mdtype\u001b[0m\u001b[0;34m,\u001b[0m \u001b[0mcopy\u001b[0m\u001b[0;34m=\u001b[0m\u001b[0mcopy\u001b[0m\u001b[0;34m)\u001b[0m\u001b[0;34m\u001b[0m\u001b[0;34m\u001b[0m\u001b[0m\n\u001b[0m\u001b[1;32m    238\u001b[0m     \u001b[0;32mexcept\u001b[0m \u001b[0;34m(\u001b[0m\u001b[0mValueError\u001b[0m\u001b[0;34m,\u001b[0m \u001b[0mTypeError\u001b[0m\u001b[0;34m)\u001b[0m\u001b[0;34m:\u001b[0m\u001b[0;34m\u001b[0m\u001b[0;34m\u001b[0m\u001b[0m\n\u001b[1;32m    239\u001b[0m         \u001b[0;31m# e.g. _astype_nansafe can fail on object-dtype of strings\u001b[0m\u001b[0;34m\u001b[0m\u001b[0;34m\u001b[0m\u001b[0m\n",
            "\u001b[0;32m/usr/local/lib/python3.12/dist-packages/pandas/core/dtypes/astype.py\u001b[0m in \u001b[0;36mastype_array\u001b[0;34m(values, dtype, copy)\u001b[0m\n\u001b[1;32m    180\u001b[0m \u001b[0;34m\u001b[0m\u001b[0m\n\u001b[1;32m    181\u001b[0m     \u001b[0;32melse\u001b[0m\u001b[0;34m:\u001b[0m\u001b[0;34m\u001b[0m\u001b[0;34m\u001b[0m\u001b[0m\n\u001b[0;32m--> 182\u001b[0;31m         \u001b[0mvalues\u001b[0m \u001b[0;34m=\u001b[0m \u001b[0m_astype_nansafe\u001b[0m\u001b[0;34m(\u001b[0m\u001b[0mvalues\u001b[0m\u001b[0;34m,\u001b[0m \u001b[0mdtype\u001b[0m\u001b[0;34m,\u001b[0m \u001b[0mcopy\u001b[0m\u001b[0;34m=\u001b[0m\u001b[0mcopy\u001b[0m\u001b[0;34m)\u001b[0m\u001b[0;34m\u001b[0m\u001b[0;34m\u001b[0m\u001b[0m\n\u001b[0m\u001b[1;32m    183\u001b[0m \u001b[0;34m\u001b[0m\u001b[0m\n\u001b[1;32m    184\u001b[0m     \u001b[0;31m# in pandas we don't store numpy str dtypes, so convert to object\u001b[0m\u001b[0;34m\u001b[0m\u001b[0;34m\u001b[0m\u001b[0m\n",
            "\u001b[0;32m/usr/local/lib/python3.12/dist-packages/pandas/core/dtypes/astype.py\u001b[0m in \u001b[0;36m_astype_nansafe\u001b[0;34m(arr, dtype, copy, skipna)\u001b[0m\n\u001b[1;32m    131\u001b[0m     \u001b[0;32mif\u001b[0m \u001b[0mcopy\u001b[0m \u001b[0;32mor\u001b[0m \u001b[0marr\u001b[0m\u001b[0;34m.\u001b[0m\u001b[0mdtype\u001b[0m \u001b[0;34m==\u001b[0m \u001b[0mobject\u001b[0m \u001b[0;32mor\u001b[0m \u001b[0mdtype\u001b[0m \u001b[0;34m==\u001b[0m \u001b[0mobject\u001b[0m\u001b[0;34m:\u001b[0m\u001b[0;34m\u001b[0m\u001b[0;34m\u001b[0m\u001b[0m\n\u001b[1;32m    132\u001b[0m         \u001b[0;31m# Explicit copy, or required since NumPy can't view from / to object.\u001b[0m\u001b[0;34m\u001b[0m\u001b[0;34m\u001b[0m\u001b[0m\n\u001b[0;32m--> 133\u001b[0;31m         \u001b[0;32mreturn\u001b[0m \u001b[0marr\u001b[0m\u001b[0;34m.\u001b[0m\u001b[0mastype\u001b[0m\u001b[0;34m(\u001b[0m\u001b[0mdtype\u001b[0m\u001b[0;34m,\u001b[0m \u001b[0mcopy\u001b[0m\u001b[0;34m=\u001b[0m\u001b[0;32mTrue\u001b[0m\u001b[0;34m)\u001b[0m\u001b[0;34m\u001b[0m\u001b[0;34m\u001b[0m\u001b[0m\n\u001b[0m\u001b[1;32m    134\u001b[0m \u001b[0;34m\u001b[0m\u001b[0m\n\u001b[1;32m    135\u001b[0m     \u001b[0;32mreturn\u001b[0m \u001b[0marr\u001b[0m\u001b[0;34m.\u001b[0m\u001b[0mastype\u001b[0m\u001b[0;34m(\u001b[0m\u001b[0mdtype\u001b[0m\u001b[0;34m,\u001b[0m \u001b[0mcopy\u001b[0m\u001b[0;34m=\u001b[0m\u001b[0mcopy\u001b[0m\u001b[0;34m)\u001b[0m\u001b[0;34m\u001b[0m\u001b[0;34m\u001b[0m\u001b[0m\n",
            "\u001b[0;31mValueError\u001b[0m: could not convert string to float: '$2'"
          ]
        }
      ]
    },
    {
      "cell_type": "markdown",
      "metadata": {
        "id": "Pl1YSCyce7qA"
      },
      "source": [
        "**Business Insight Questions:**\n",
        "- Which products should the company stock more of?\n",
        "- Are high-price items selling well, or is volume more important?\n",
        "- What would you recommend to the inventory manager?\n",
        "\n",
        "---\n",
        "\n",
        "## Practice Exercise 1.3: Sales Rep Performance\n",
        "\n",
        "::: {.callout-tip}\n",
        "## Management Challenge\n",
        "\n",
        "Your sales manager wants to recognize top performers and identify who might need additional training.\n",
        "\n",
        "**Your Task**: Create prompts that help analyze:\n",
        "1. Which sales reps are generating the most revenue?\n",
        "2. Who has the highest average sale amounts?\n",
        "3. Are there regional patterns in rep performance?\n",
        "4. Format results suitable for a performance review meeting\n",
        ":::\n",
        "\n",
        "**Your Approach:**"
      ]
    },
    {
      "cell_type": "code",
      "metadata": {
        "id": "bcIWC0YOe7qA"
      },
      "source": [
        "# Try different AI prompts and compare results\n",
        "# Document which prompts work best"
      ],
      "execution_count": null,
      "outputs": []
    },
    {
      "cell_type": "markdown",
      "metadata": {
        "id": "qwYdHViTe7qB"
      },
      "source": [
        "---\n",
        "\n",
        "# Exercise Set 2: Financial Transaction Patterns 💳\n",
        "\n",
        "## Advanced Analysis Practice\n",
        "\n",
        "Using the original transactions data, practice more sophisticated AI collaboration."
      ]
    },
    {
      "cell_type": "code",
      "metadata": {
        "id": "NFBtAxahe7qB"
      },
      "source": [
        "# Reload transaction data for advanced practice\n",
        "transactions_df = pd.read_csv('../data/transactions.csv')\n",
        "print(\"Transaction data loaded for advanced practice\")"
      ],
      "execution_count": null,
      "outputs": []
    },
    {
      "cell_type": "markdown",
      "metadata": {
        "id": "o8S_H18te7qB"
      },
      "source": [
        "## Practice Exercise 2.1: Spending Trend Analysis\n",
        "\n",
        "::: {.callout-tip}\n",
        "## Business Context\n",
        "\n",
        "You're helping a friend understand their spending habits over time.\n",
        "\n",
        "**Challenge**: Ask AI to help you:\n",
        "1. Convert dates to datetime format\n",
        "2. Analyze spending trends by day of week\n",
        "3. Identify if spending has increased over time\n",
        "4. Spot any unusual spending patterns\n",
        "\n",
        "**Focus**: Practice asking AI to explain any complex date handling code it provides.\n",
        ":::\n",
        "\n",
        "**Your Analysis:**"
      ]
    },
    {
      "cell_type": "code",
      "metadata": {
        "id": "jCObi3NYe7qB"
      },
      "source": [
        "# Your AI collaboration for time-based analysis"
      ],
      "execution_count": null,
      "outputs": []
    },
    {
      "cell_type": "markdown",
      "metadata": {
        "id": "I7gMi5_We7qB"
      },
      "source": [
        "## Practice Exercise 2.2: Budget Category Analysis\n",
        "\n",
        "::: {.callout-tip}\n",
        "## Personal Finance Scenario\n",
        "\n",
        "Someone wants to set a realistic monthly budget based on their spending history.\n",
        "\n",
        "**Challenge**: Use AI to help:\n",
        "1. Calculate average monthly spending by category\n",
        "2. Identify categories with high variation (inconsistent spending)\n",
        "3. Suggest realistic budget amounts for each category\n",
        "4. Find categories where spending might be reduced\n",
        "\n",
        "**Advanced**: Ask AI to explain the statistical concepts it uses.\n",
        ":::\n",
        "\n",
        "**Your Budget Analysis:**"
      ]
    },
    {
      "cell_type": "code",
      "metadata": {
        "id": "fR2Vfuxge7qC"
      },
      "source": [
        "# AI-assisted budget recommendation code"
      ],
      "execution_count": null,
      "outputs": []
    },
    {
      "cell_type": "markdown",
      "metadata": {
        "id": "5pGgGvJee7qC"
      },
      "source": [
        "---\n",
        "\n",
        "# Exercise Set 3: AI Critique Practice 🤔\n",
        "\n",
        "## Common AI Code Issues\n",
        "\n",
        "Below are examples of AI-generated code with issues. Practice your critique skills!\n",
        "\n",
        "### Critique Exercise 1: Overly Complex Code\n",
        "\n",
        "```python\n",
        "# AI generated this code - what's wrong with it?\n",
        "import pandas as pd\n",
        "import numpy as np\n",
        "from datetime import datetime\n",
        "\n",
        "def complex_analysis(data):\n",
        "    result = data.groupby([pd.Grouper(key='Date', freq='M'), 'Category']).agg({\n",
        "        'Amount': [lambda x: pd.to_numeric(x.str.replace('$', ''), errors='coerce').sum(),\n",
        "                   lambda x: pd.to_numeric(x.str.replace('$', ''), errors='coerce').mean(),\n",
        "                   lambda x: pd.to_numeric(x.str.replace('$', ''), errors='coerce').std()]\n",
        "    }).reset_index()\n",
        "    \n",
        "    result.columns = ['_'.join(col).strip() for col in result.columns.values]\n",
        "    return result.fillna(0).round(2)\n",
        "\n",
        "# Complex usage\n",
        "df['Date'] = pd.to_datetime(df['Date'])\n",
        "complex_result = complex_analysis(transactions_df)\n",
        "print(complex_result.head())\n",
        "```\n",
        "\n",
        "**Your Critique:**\n",
        "\n",
        "::: {.callout-warning}\n",
        "## Issues to Identify\n",
        "\n",
        "1. What makes this code hard to understand?\n",
        "2. What would you ask AI to simplify?\n",
        "3. How would you request a clearer version?\n",
        "\n",
        "**Write your critique prompt:**\n",
        ":::\n",
        "\n",
        "```\n",
        "[Your critique prompt to AI]\n",
        "```\n",
        "\n",
        "### Critique Exercise 2: Poor Business Context\n",
        "\n",
        "```python\n",
        "# AI code that works but lacks business insight\n",
        "df_grouped = df.groupby('cat')['amt'].sum().sort_values()\n",
        "print(df_grouped)\n",
        "```\n",
        "\n",
        "**Problems:**\n",
        "- Unclear column references\n",
        "- No business explanation\n",
        "- Poor formatting\n",
        "- No context for results\n",
        "\n",
        "**Your Improvement Prompt:**\n",
        "```\n",
        "[How would you ask AI to make this more business-appropriate?]\n",
        "```\n",
        "\n",
        "---\n",
        "\n",
        "# Exercise Set 4: Real-World Business Scenarios 🏢\n",
        "\n",
        "## Scenario 1: Retail Store Analysis\n",
        "\n",
        "::: {.callout-note}\n",
        "## Business Context\n",
        "\n",
        "You're analyzing sales data for a small retail chain. They want to know:\n",
        "- Which stores need more inventory\n",
        "- What products to discontinue\n",
        "- When to schedule promotional campaigns\n",
        "- How to allocate sales staff\n",
        "\n",
        "**Data**: Use the sales_data.csv but imagine it represents different store locations instead of regions.\n",
        ":::\n",
        "\n",
        "**Your Business Analysis:**"
      ]
    },
    {
      "cell_type": "code",
      "metadata": {
        "id": "H69y_4Gke7qC"
      },
      "source": [
        "# Practice comprehensive business analysis with AI assistance\n",
        "# Focus on actionable insights, not just data summaries"
      ],
      "execution_count": null,
      "outputs": []
    },
    {
      "cell_type": "markdown",
      "metadata": {
        "id": "6OwLvMfae7qC"
      },
      "source": [
        "## Scenario 2: Personal Finance Coaching\n",
        "\n",
        "::: {.callout-note}\n",
        "## Business Context\n",
        "\n",
        "You're building a personal finance app feature that provides spending advice.\n",
        "\n",
        "**Challenge**: Use AI to create code that:\n",
        "1. Identifies spending categories that are above typical percentages\n",
        "2. Suggests specific areas for potential savings\n",
        "3. Provides encouraging feedback for good spending habits\n",
        "4. Formats advice in a user-friendly way\n",
        ":::\n",
        "\n",
        "**Your Coaching Algorithm:**"
      ]
    },
    {
      "cell_type": "code",
      "metadata": {
        "id": "zqhSvplXe7qC"
      },
      "source": [
        "# AI-assisted personal finance advice generation"
      ],
      "execution_count": null,
      "outputs": []
    },
    {
      "cell_type": "markdown",
      "metadata": {
        "id": "P-_fAqK2e7qD"
      },
      "source": [
        "---\n",
        "\n",
        "# Self-Assessment Checklist ✅\n",
        "\n",
        "After completing these exercises, evaluate your AI collaboration skills:\n",
        "\n",
        "## AI Prompting Skills\n",
        "- ☐ I can write prompts that include business context\n",
        "- ☐ I specify desired output format and structure  \n",
        "- ☐ I ask follow-up questions to improve AI responses\n",
        "- ☐ I can request explanations of complex code\n",
        "\n",
        "## Code Critique Skills\n",
        "- ☐ I can identify when AI code is too complex\n",
        "- ☐ I recognize when variable names need improvement\n",
        "- ☐ I spot when business context is missing\n",
        "- ☐ I ask for clearer, more maintainable solutions\n",
        "\n",
        "## Business Application Skills  \n",
        "- ☐ I connect data analysis to real business decisions\n",
        "- ☐ I can explain technical results in business terms\n",
        "- ☐ I consider edge cases and data quality issues\n",
        "- ☐ I format results for business presentation\n",
        "\n",
        "## Learning Documentation\n",
        "- ☐ I document what I learned from each AI interaction\n",
        "- ☐ I record effective prompts for future use\n",
        "- ☐ I note when AI explanations helped my understanding\n",
        "- ☐ I reflect on how to improve my collaboration\n",
        "\n",
        "---\n",
        "\n",
        "# Reflection Questions 🤔\n",
        "\n",
        "Before finishing your practice session, consider:\n",
        "\n",
        "1. **Which AI interactions were most helpful for your learning?**\n",
        "2. **What types of prompts got you the best code explanations?**\n",
        "3. **When did you successfully critique and improve AI responses?**\n",
        "4. **How has your confidence with business data analysis changed?**\n",
        "5. **What AI collaboration strategies will you use in your assignment?**\n",
        "\n",
        "---\n",
        "\n",
        "# Next Steps 🚀\n",
        "\n",
        "**For Your Assignment:**\n",
        "- Apply these prompting techniques to your Smart Finance Assistant\n",
        "- Use the critique skills to ensure your code is business-appropriate\n",
        "- Document successful AI interactions in your Developer's Diary\n",
        "- Build on the confidence you've gained with these practice exercises\n",
        "\n",
        "**Remember**: You're not trying to become a pandas expert overnight. You're becoming skilled at directing AI to solve business problems efficiently and effectively.\n",
        "\n",
        "**Great practice work! These skills will serve you well throughout your Smart Finance Assistant project and in your future career! 🎉**"
      ]
    }
  ],
  "metadata": {
    "kernelspec": {
      "display_name": "Python 3",
      "language": "python",
      "name": "python3"
    },
    "colab": {
      "provenance": [],
      "include_colab_link": true
    }
  },
  "nbformat": 4,
  "nbformat_minor": 0
}
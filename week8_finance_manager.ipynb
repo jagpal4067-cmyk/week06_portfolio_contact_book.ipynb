{
  "nbformat": 4,
  "nbformat_minor": 0,
  "metadata": {
    "colab": {
      "provenance": [],
      "authorship_tag": "ABX9TyOrEGHRUMe1Ciika94Cmj1k",
      "include_colab_link": true
    },
    "kernelspec": {
      "name": "python3",
      "display_name": "Python 3"
    },
    "language_info": {
      "name": "python"
    }
  },
  "cells": [
    {
      "cell_type": "markdown",
      "metadata": {
        "id": "view-in-github",
        "colab_type": "text"
      },
      "source": [
        "<a href=\"https://colab.research.google.com/github/jagpal4067-cmyk/week06_portfolio_contact_book.ipynb/blob/main/week8_finance_manager.ipynb\" target=\"_parent\"><img src=\"https://colab.research.google.com/assets/colab-badge.svg\" alt=\"Open In Colab\"/></a>"
      ]
    },
    {
      "cell_type": "code",
      "source": [
        "def load_transactions(filename):\n",
        "    \"\"\"Read lines from a transaction file safely.\"\"\"\n",
        "    try:\n",
        "        with open(filename, 'r') as file:\n",
        "            lines = file.readlines()\n",
        "        return lines\n",
        "    except FileNotFoundError:\n",
        "        print(\"Error: File not found\")\n",
        "        return []\n"
      ],
      "metadata": {
        "id": "aKlnoVeWtxAQ"
      },
      "execution_count": 4,
      "outputs": []
    },
    {
      "cell_type": "code",
      "source": [
        "def process_transactions(lines):\n",
        "    \"\"\"Clean and organise transaction data.\"\"\"\n",
        "    transactions = []\n",
        "    for line in lines:\n",
        "        try:\n",
        "            category, amount = line.strip().split(\",\")\n",
        "            amount = float(amount)\n",
        "            transactions.append((category, amount))\n",
        "        except ValueError:\n",
        "            # If a line is broken, skip it\n",
        "            print(f\"Skipping bad line: {line.strip()}\")\n",
        "    return transactions\n"
      ],
      "metadata": {
        "id": "fRSi-BJSt6EI"
      },
      "execution_count": 5,
      "outputs": []
    },
    {
      "cell_type": "code",
      "source": [
        "def summarize(transactions):\n",
        "    income = sum(a for c, a in transactions if a > 0)\n",
        "    expenses = sum(a for c, a in transactions if a < 0)\n",
        "    balance = income + expenses\n",
        "    print(\"Income:\", income)\n",
        "    print(\"Expenses:\", expenses)\n",
        "    print(\"Net Balance:\", balance)\n"
      ],
      "metadata": {
        "id": "GC-dHS9Pt-jq"
      },
      "execution_count": 6,
      "outputs": []
    },
    {
      "cell_type": "code",
      "source": [
        "lines = load_transactions(\"transactions.txt\")\n",
        "transactions = process_transactions(lines)\n",
        "summarize(transactions)\n"
      ],
      "metadata": {
        "colab": {
          "base_uri": "https://localhost:8080/"
        },
        "id": "lP9g2HdLuFGy",
        "outputId": "c6f92fd5-fd25-4c8e-d2b5-5bf319858b1d"
      },
      "execution_count": 7,
      "outputs": [
        {
          "output_type": "stream",
          "name": "stdout",
          "text": [
            "Skipping bad line: BAD LINE HERE\n",
            "Income: 1535.5\n",
            "Expenses: -155.89\n",
            "Net Balance: 1379.6100000000001\n"
          ]
        }
      ]
    }
  ]
}